{
 "cells": [
  {
   "cell_type": "code",
   "execution_count": 1,
   "metadata": {},
   "outputs": [],
   "source": [
    "from datetime import datetime\n",
    "import json\n",
    "import os\n",
    "import re\n",
    "from pathlib import Path\n",
    "from typing import Dict, List\n",
    "from urllib.parse import parse_qs\n",
    "from bs4 import BeautifulSoup, Tag\n",
    "from functional import seq\n",
    "import scrapy\n",
    "from scrapy import signals\n",
    "from scrapy.crawler import CrawlerProcess\n",
    "from scrapy.utils.project import get_project_settings\n",
    "from scrapy.http import HtmlResponse\n",
    "from scrapy_playwright.page import PageMethod\n",
    "from playwright.sync_api import sync_playwright, Playwright\n",
    "import requests\n",
    "import asyncio\n",
    "from functional import seq\n",
    "from typing import Optional\n",
    "from playwright.async_api import async_playwright, Playwright\n"
   ]
  },
  {
   "cell_type": "code",
   "execution_count": 2,
   "metadata": {},
   "outputs": [],
   "source": [
    "link= \"https://www.ox.ac.uk/admissions/graduate/courses/msc-applied-linguistics-and-second-language-acquisition\"\n",
    "response= requests.get(link)\n",
    "soup= BeautifulSoup(response.content, \"html.parser\")\n"
   ]
  },
  {
   "cell_type": "code",
   "execution_count": 6,
   "metadata": {},
   "outputs": [
    {
     "name": "stdout",
     "output_type": "stream",
     "text": [
      "Foundations of SLA Theory\n",
      "First Language Acquisition & Bilingualism\n",
      "Vocabulary Acquisition\n",
      "Communication of Meaning\n",
      "Sociolinguistics\n",
      "Individual and Group Differences\n"
     ]
    }
   ],
   "source": [
    "modules=soup.select(\"#content-tab ul li\")\n",
    "for module in modules:\n",
    "    if \"core\" in module.find_previous('p').text.lower():\n",
    "        print(module.text)\n",
    "    elif \"option\" in module.find_previous('p').text.lower():\n",
    "        print(module.text)"
   ]
  },
  {
   "cell_type": "code",
   "execution_count": 4,
   "metadata": {},
   "outputs": [
    {
     "name": "stdout",
     "output_type": "stream",
     "text": [
      "{'part-time': 'MSc: Two years'}\n"
     ]
    }
   ],
   "source": [
    "programme_duration = soup.find(\"dt\", text=\"Programme duration\")\n",
    "durations = programme_duration.find_next_sibling().get_text(separator=\"|\", strip=True)\n",
    "study_mode_duration_map = {}\n",
    "\n",
    "for duration_mode in durations.split('|'):\n",
    "    if 'full-time' in duration_mode:\n",
    "        study_mode_duration_map['full-time'] = duration_mode.split('full-time')[0].strip()\n",
    "    elif 'part-time' in duration_mode:\n",
    "        study_mode_duration_map['part-time'] = duration_mode.split('part-time')[0].strip()\n",
    "print(study_mode_duration_map)\n",
    "if study_mode.lower() in study_mode_duration_map:\n",
    "    duration = study_mode_duration_map[study_mode.lower()]\n",
    "else:\n",
    "    duration = None\n",
    "            "
   ]
  },
  {
   "cell_type": "code",
   "execution_count": 53,
   "metadata": {},
   "outputs": [],
   "source": [
    "link= \"https://www.bris.ac.uk/unit-programme-catalogue/RouteStructure.jsa?_ga=2.171731944.932948495.1615801524-674141097.1605255911&ayrCode=24%2F25&byCohort=N&programmeCode=9LAWD006T&_gl=1*11qmqnt*_ga*MTE3MjA4Mjg1MC4xNzE3MDA2MzI4*_ga_6R8SPL3HLT*MTcxNzAyMDUyMS4zLjEuMTcxNzAyMTE1MC42MC4wLjA.\"\n",
    "response= requests.get(link)\n",
    "soup= BeautifulSoup(response.content, \"html.parser\")\n",
    "\n",
    "# playwright = await async_playwright().start()\n",
    "# browser = await playwright.chromium.launch(headless = True)\n",
    "# page = await browser.new_page()\n",
    "\n",
    "# await page.goto(\"https://www.bristol.ac.uk/study/language-requirements/profile-a/\")\n",
    "# content = await page.content()\n",
    "\n",
    "# await browser.close()\n",
    "# await playwright.stop()\n",
    "# soup = BeautifulSoup(content, \"html.parser\")\n"
   ]
  },
  {
   "cell_type": "code",
   "execution_count": 54,
   "metadata": {},
   "outputs": [
    {
     "name": "stdout",
     "output_type": "stream",
     "text": [
      "23\n",
      "https://www.bris.ac.uk//unit-programme-catalogue/RouteStructure.jsa;jsessionid=68DA00335113F64427DB4B6C368E372D?byCohort=N&cohort=Y&routeLevelCode=1&ayrCode=24%2F25&modeOfStudyCode=Part+Time&programmeCode=9LAWD006T\n",
      "https://www.bris.ac.uk//unit-programme-catalogue/RouteStructure.jsa;jsessionid=68DA00335113F64427DB4B6C368E372D?byCohort=N&cohort=Y&routeLevelCode=2&ayrCode=24%2F25&modeOfStudyCode=Part+Time&programmeCode=9LAWD006T\n",
      "69\n"
     ]
    }
   ],
   "source": [
    "modules = []\n",
    "table = soup.select_one('.table-basic')\n",
    "table.select_one('thead').decompose()\n",
    "\n",
    "for row in table.select('tr'):\n",
    "    tds = row.select('td')\n",
    "    if not tds[0].select_one('a'):\n",
    "        continue\n",
    "\n",
    "    unit_name, _, _, status, _ = tds\n",
    "\n",
    "    link = f\"https://www.bristol.ac.uk{unit_name.select_one('a')['href']}\"\n",
    "    title = unit_name.select_one('a').text.strip()\n",
    "\n",
    "    modules.append({\n",
    "        'type': status.text.strip(),\n",
    "        'title': title,\n",
    "        'link': link\n",
    "    })\n",
    "ok=soup.select(\"#uobcms-content  div.column.grid_8 li\")\n",
    "for i in ok:\n",
    "    try:\n",
    "        linx=i.select_one(\"a\")[\"href\"]\n",
    "        linx= f'https://www.bris.ac.uk/{linx}'\n",
    "        print(linx)\n",
    "    except:\n",
    "        continue\n",
    "    response= requests.get(linx)\n",
    "    soup= BeautifulSoup(response.content, \"html.parser\")\n",
    "    for row in table.select('tr'):\n",
    "        tds = row.select('td')\n",
    "        if not tds[0].select_one('a'):\n",
    "            continue\n",
    "\n",
    "        unit_name, _, _, status, _ = tds\n",
    "\n",
    "        link = f\"https://www.bristol.ac.uk{unit_name.select_one('a')['href']}\"\n",
    "        title = unit_name.select_one('a').text.strip()\n",
    "\n",
    "        modules.append({\n",
    "            'type': status.text.strip(),\n",
    "            'title': title,\n",
    "            'link': link\n",
    "        })\n"
   ]
  },
  {
   "cell_type": "code",
   "execution_count": 29,
   "metadata": {},
   "outputs": [],
   "source": [
    "link=\"https://www.leeds.ac.uk/language-centre/doc/english-language-certificates\"\n",
    "response= requests.get(link)\n",
    "soup= BeautifulSoup(response.content, \"html.parser\")"
   ]
  },
  {
   "cell_type": "code",
   "execution_count": 33,
   "metadata": {},
   "outputs": [
    {
     "name": "stdout",
     "output_type": "stream",
     "text": [
      "{'4.0': {'TOEFL': {'overall': '50', 'reading': '9', 'writing': '13', 'speaking': '16', 'listening': '12'}, 'PTE': {'overall': '43', 'reading': '43', 'writing': '43', 'speaking': '43', 'listening': '43'}, 'LanguageCert': {'overall': '45', 'reading': '45', 'writing': '45', 'speaking': '45', 'listening': '45'}}, '4.5': {'TOEFL': {'overall': '57', 'reading': '12', 'writing': '15', 'speaking': '17', 'listening': '13'}, 'PTE': {'overall': '48', 'reading': '48', 'writing': '48', 'speaking': '48', 'listening': '48'}, 'LanguageCert': {'overall': '50', 'reading': '50', 'writing': '50', 'speaking': '50', 'listening': '50'}}, '5.0': {'TOEFL': {'overall': '63', 'reading': '14', 'writing': '16', 'speaking': '19', 'listening': '14'}, 'PTE': {'overall': '54', 'reading': '54', 'writing': '54', 'speaking': '54', 'listening': '54'}, 'LanguageCert': {'overall': '55', 'reading': '55', 'writing': '55', 'speaking': '55', 'listening': '55'}}, '5.5': {'TOEFL': {'overall': '72', 'reading': '18', 'writing': '19', 'speaking': '20', 'listening': '17'}, 'PTE': {'overall': '59', 'reading': '59', 'writing': '59', 'speaking': '59', 'listening': '59'}, 'LanguageCert': {'overall': '60', 'reading': '60', 'writing': '60', 'speaking': '60', 'listening': '60'}}, '6.0': {'TOEFL': {'overall': '80', 'reading': '20', 'writing': '21', 'speaking': '22', 'listening': '19'}, 'PTE': {'overall': '60', 'reading': '60', 'writing': '60', 'speaking': '60', 'listening': '60'}, 'LanguageCert': {'overall': '65', 'reading': '65', 'writing': '65', 'speaking': '65', 'listening': '65'}}, '6.5': {'TOEFL': {'overall': '88', 'reading': '22', 'writing': '22', 'speaking': '24', 'listening': '22'}, 'PTE': {'overall': '64', 'reading': '64', 'writing': '64', 'speaking': '64', 'listening': '64'}, 'LanguageCert': {'overall': '70', 'reading': '70', 'writing': '70', 'speaking': '70', 'listening': '70'}}, '7.0': {'TOEFL': {'overall': '95', 'reading': '23', 'writing': '24', 'speaking': '25', 'listening': '23'}, 'PTE': {'overall': '68', 'reading': '68', 'writing': '68', 'speaking': '68', 'listening': '68'}, 'LanguageCert': {'overall': '75', 'reading': '75', 'writing': '75', 'speaking': '75', 'listening': '75'}}, '7.5': {'TOEFL': {'overall': '103', 'reading': '24', 'writing': '25', 'speaking': '26', 'listening': '24'}, 'PTE': {'overall': '74', 'reading': '74', 'writing': '74', 'speaking': '74', 'listening': '74'}, 'LanguageCert': {'overall': '80', 'reading': '80', 'writing': '80', 'speaking': '80', 'listening': '80'}}}\n"
     ]
    }
   ],
   "source": [
    "scores = []\n",
    "certificates = {}\n",
    "toefl = soup.find('h3', text=re.compile(\"TOEFL iBT\"))\\\n",
    "    .find_next()\\\n",
    "    .find_next()\n",
    "pearson_test_of_english = soup.find(\n",
    "    'h3',\n",
    "    text=re.compile(\"Pearson Test of English\"))\\\n",
    "    .find_next()\n",
    "languagecert= soup.find('h3', text=re.compile(\"LanguageCert Academic\"))\\\n",
    "    .find_next()\n",
    "\n",
    "table_headers = toefl.select('th')[1:]\n",
    "for table_header in table_headers:\n",
    "    content = table_header.text.split(' ')[-1].strip()\n",
    "    if content not in certificates:\n",
    "        certificates[content] = {}\n",
    "        scores.append(content)\n",
    "\n",
    "for (name, table) in [('TOEFL', toefl),\n",
    "                        ('PTE', pearson_test_of_english),\n",
    "                        ('LanguageCert',languagecert)]:\n",
    "    rows = table.select('tr')\n",
    "    for row in rows[1:]:\n",
    "        cols = row.select('td')\n",
    "        skill = cols[0].text.split(' ')[0].lower().replace('\\xa0', '')\n",
    "        for i, col in enumerate(cols):\n",
    "            if name not in certificates[scores[i-1]]:\n",
    "                certificates[scores[i-1]][name] = {\n",
    "                        skill: col.text.strip()}\n",
    "            else:\n",
    "                certificates[scores[i-1]][name][skill] = col.text\\\n",
    "                                                            .strip()\n",
    "\n",
    "\n",
    "print(certificates)\n",
    "\n",
    "\n"
   ]
  },
  {
   "cell_type": "code",
   "execution_count": 35,
   "metadata": {},
   "outputs": [
    {
     "name": "stdout",
     "output_type": "stream",
     "text": [
      "TOEFL {'overall': '95', 'reading': '23', 'writing': '24', 'speaking': '25', 'listening': '23'}\n",
      "overall: 88, reading: 22, writing: 22, speaking: 24, listening: 22\n",
      "PTE {'overall': '68', 'reading': '68', 'writing': '68', 'speaking': '68', 'listening': '68'}\n",
      "overall: 64, reading: 64, writing: 64, speaking: 64, listening: 64\n",
      "LanguageCert {'overall': '75', 'reading': '75', 'writing': '75', 'speaking': '75', 'listening': '75'}\n",
      "overall: 70, reading: 70, writing: 70, speaking: 70, listening: 70\n",
      "[{'language': 'English', 'test': 'TOEFL', 'score': 'overall: 88, reading: 22, writing: 22, speaking: 24, listening: 22'}, {'language': 'English', 'test': 'PTE', 'score': 'overall: 64, reading: 64, writing: 64, speaking: 64, listening: 64'}, {'language': 'English', 'test': 'LanguageCert', 'score': 'overall: 70, reading: 70, writing: 70, speaking: 70, listening: 70'}]\n"
     ]
    }
   ],
   "source": [
    "language_requirements = []\n",
    "for cert in certificates['7.0'].keys():\n",
    "    print(cert, certificates['7.0'][cert])\n",
    "    scores = []\n",
    "    for score in certificates['7.0'][cert].keys():\n",
    "        scores.append(f'{score}: {certificates[\"6.5\"][cert][score]}')\n",
    "    print(', '.join(scores))\n",
    "\n",
    "    language_requirements.append({\n",
    "        \"language\": \"English\",\n",
    "        \"test\": cert,\n",
    "        \"score\": ', '.join(scores)\n",
    "    })\n",
    "print(language_requirements)"
   ]
  },
  {
   "cell_type": "code",
   "execution_count": 38,
   "metadata": {},
   "outputs": [
    {
     "name": "stdout",
     "output_type": "stream",
     "text": [
      "\n"
     ]
    }
   ],
   "source": [
    "ok=\"Clinical Education MEd \"\n",
    "qualification=ok.split(\" \")[-1]\n",
    "if(qualification==\"(Eng)\"):\n",
    "    qualification=ok.split(\" \")[-2]\n",
    "if(qualification==\"Certificate\"):\n",
    "    qualification=\"Postgraduate Certificate\"\n",
    "if(qualification==\"Diploma\"):\n",
    "    qualification=\"Postgraduate Diploma\"\n",
    "print(qualification)"
   ]
  },
  {
   "cell_type": "code",
   "execution_count": 45,
   "metadata": {},
   "outputs": [
    {
     "name": "stdout",
     "output_type": "stream",
     "text": [
      "<table>\n",
      "<thead>\n",
      "<tr>\n",
      "<th>Your Pearson Test of English (PTE) Academic score </th>\n",
      "<th>Equivalent to IELTS 4.0 </th>\n",
      "<th>Equivalent to IELTS 4.5 </th>\n",
      "<th>Equivalent to IELTS 5.0 </th>\n",
      "<th>Equivalent to IELTS 5.5 </th>\n",
      "<th>Equivalent to IELTS 6.0</th>\n",
      "<th>Equivalent to IELTS 6.5 </th>\n",
      "<th> Equivalent to IELTS 7.0 </th>\n",
      "<th>Equivalent to IELTS 7.5 </th>\n",
      "</tr>\n",
      "</thead>\n",
      "<tbody>\n",
      "<tr>\n",
      "<td>Overall </td>\n",
      "<td>43</td>\n",
      "<td>48</td>\n",
      "<td>54</td>\n",
      "<td>59</td>\n",
      "<td>60</td>\n",
      "<td>64</td>\n",
      "<td>68</td>\n",
      "<td>74</td>\n",
      "</tr>\n",
      "<tr>\n",
      "<td>Reading component </td>\n",
      "<td>43</td>\n",
      "<td>48</td>\n",
      "<td>54</td>\n",
      "<td>59</td>\n",
      "<td>60</td>\n",
      "<td>64</td>\n",
      "<td>68</td>\n",
      "<td>74</td>\n",
      "</tr>\n",
      "<tr>\n",
      "<td>Writing component </td>\n",
      "<td>43</td>\n",
      "<td>48</td>\n",
      "<td>54</td>\n",
      "<td>59</td>\n",
      "<td>60</td>\n",
      "<td>64</td>\n",
      "<td>68</td>\n",
      "<td>74</td>\n",
      "</tr>\n",
      "<tr>\n",
      "<td>Speaking component </td>\n",
      "<td>43</td>\n",
      "<td>48</td>\n",
      "<td>54</td>\n",
      "<td>59</td>\n",
      "<td>60</td>\n",
      "<td>64</td>\n",
      "<td>68</td>\n",
      "<td>74</td>\n",
      "</tr>\n",
      "<tr>\n",
      "<td>Listening component </td>\n",
      "<td>43</td>\n",
      "<td>48</td>\n",
      "<td>54</td>\n",
      "<td>59</td>\n",
      "<td>60</td>\n",
      "<td>64</td>\n",
      "<td>68</td>\n",
      "<td>74</td>\n",
      "</tr>\n",
      "</tbody>\n",
      "</table>\n",
      "<table>\n",
      "<thead>\n",
      "<tr>\n",
      "<th>Your TOEFL iBT overall  <br/>\n",
      "\t\t\tscore </th>\n",
      "<th>Equivalent to IELTS 4.0 </th>\n",
      "<th>Equivalent to IELTS 4.5 </th>\n",
      "<th>Equivalent to IELTS 5.0 </th>\n",
      "<th>Equivalent to IELTS 5.5 </th>\n",
      "<th>Equivalent to IELTS 6.0 </th>\n",
      "<th>Equivalent to IELTS 6.5 </th>\n",
      "<th>Equivalent to IELTS 7.0 </th>\n",
      "<th>Equivalent to IELTS 7.5 </th>\n",
      "</tr>\n",
      "</thead>\n",
      "<tbody>\n",
      "<tr>\n",
      "<td>Overall</td>\n",
      "<td>50</td>\n",
      "<td>57</td>\n",
      "<td>63</td>\n",
      "<td>72</td>\n",
      "<td>80</td>\n",
      "<td>88</td>\n",
      "<td>95</td>\n",
      "<td>103</td>\n",
      "</tr>\n",
      "<tr>\n",
      "<td>Reading component </td>\n",
      "<td>9</td>\n",
      "<td>12</td>\n",
      "<td>14</td>\n",
      "<td>18</td>\n",
      "<td>20</td>\n",
      "<td>22</td>\n",
      "<td>23</td>\n",
      "<td>24</td>\n",
      "</tr>\n",
      "<tr>\n",
      "<td>Writing component </td>\n",
      "<td>13</td>\n",
      "<td>15</td>\n",
      "<td>16</td>\n",
      "<td>19</td>\n",
      "<td>21</td>\n",
      "<td>22</td>\n",
      "<td>24</td>\n",
      "<td>25</td>\n",
      "</tr>\n",
      "<tr>\n",
      "<td>Speaking component </td>\n",
      "<td>16</td>\n",
      "<td>17</td>\n",
      "<td>19</td>\n",
      "<td>20</td>\n",
      "<td>22</td>\n",
      "<td>24</td>\n",
      "<td>25</td>\n",
      "<td>26</td>\n",
      "</tr>\n",
      "<tr>\n",
      "<td>Listening component</td>\n",
      "<td>12</td>\n",
      "<td>13</td>\n",
      "<td>14</td>\n",
      "<td>17</td>\n",
      "<td>19</td>\n",
      "<td>22</td>\n",
      "<td>23</td>\n",
      "<td>24</td>\n",
      "</tr>\n",
      "</tbody>\n",
      "</table>\n",
      "<table>\n",
      "<thead>\n",
      "<tr>\n",
      "<th>Your LanguageCert Academic overall score</th>\n",
      "<th>Equivalent to IELTS 4.0</th>\n",
      "<th>Equivalent to IELTS 4.5</th>\n",
      "<th>Equivalent to IELTS 5.0</th>\n",
      "<th>Equivalent to IELTS 5.5</th>\n",
      "<th>Equivalent to IELTS 6.0</th>\n",
      "<th>Equivalent to IELTS 6.5</th>\n",
      "<th>Equivalent to IELTS 7.0</th>\n",
      "<th>Equivalent to IELTS 7.5</th>\n",
      "</tr>\n",
      "</thead>\n",
      "<tbody>\n",
      "<tr>\n",
      "<td>Overall</td>\n",
      "<td>45</td>\n",
      "<td>50</td>\n",
      "<td>55</td>\n",
      "<td>60</td>\n",
      "<td>65</td>\n",
      "<td>70</td>\n",
      "<td>75</td>\n",
      "<td>80</td>\n",
      "</tr>\n",
      "<tr>\n",
      "<td>Reading component</td>\n",
      "<td>45</td>\n",
      "<td>50</td>\n",
      "<td>55</td>\n",
      "<td>60</td>\n",
      "<td>65</td>\n",
      "<td>70</td>\n",
      "<td>75</td>\n",
      "<td>80</td>\n",
      "</tr>\n",
      "<tr>\n",
      "<td>Writing component</td>\n",
      "<td>45</td>\n",
      "<td>50</td>\n",
      "<td>55</td>\n",
      "<td>60</td>\n",
      "<td>65</td>\n",
      "<td>70</td>\n",
      "<td>75</td>\n",
      "<td>80</td>\n",
      "</tr>\n",
      "<tr>\n",
      "<td>Speaking component</td>\n",
      "<td>45</td>\n",
      "<td>50</td>\n",
      "<td>55</td>\n",
      "<td>60</td>\n",
      "<td>65</td>\n",
      "<td>70</td>\n",
      "<td>75</td>\n",
      "<td>80</td>\n",
      "</tr>\n",
      "<tr>\n",
      "<td>Listening component</td>\n",
      "<td>45</td>\n",
      "<td>50</td>\n",
      "<td>55</td>\n",
      "<td>60</td>\n",
      "<td>65</td>\n",
      "<td>70</td>\n",
      "<td>75</td>\n",
      "<td>80</td>\n",
      "</tr>\n",
      "</tbody>\n",
      "</table>\n"
     ]
    }
   ],
   "source": [
    "language_certificates= {}\n",
    "i=0\n",
    "for i in soup.select(\"table\"):\n",
    "    if(i==0):\n",
    "        test=\"Pearson Test of English (PTE) Academic\"\n",
    "        language_certificates.append({\"language\":\"English\",\"test\": test,})\n",
    "    elif(i==1):\n",
    "        test=\"TOEFL iBT (Test of English as a Foreign Language Internet-Based Test)\"\n",
    "    elif(i==2):\n",
    "        test=\"LanguageCert Academic\"\n",
    "    "
   ]
  },
  {
   "cell_type": "code",
   "execution_count": 39,
   "metadata": {},
   "outputs": [
    {
     "name": "stdout",
     "output_type": "stream",
     "text": [
      "['March 2024', 'May 2024', 'July 2024']\n"
     ]
    }
   ],
   "source": [
    "start_dates = []\n",
    "selector=soup.select('#main .uol-key-facts dt')\n",
    "for i in selector:\n",
    "    if(i.text.lower()==\"start date\"):\n",
    "        date=i.findNext('dd').text\n",
    "        start_dates.append(date)\n",
    "    elif(i.text.lower()==\"start dates\"):\n",
    "        try:\n",
    "            for j in i.findNextSiblings('dd'):\n",
    "                start_dates.append(j.text)\n",
    "        except:\n",
    "            pass\n",
    "print(start_dates)"
   ]
  },
  {
   "cell_type": "code",
   "execution_count": 40,
   "metadata": {},
   "outputs": [],
   "source": [
    "link= \"https://courses.leeds.ac.uk/f360/advanced-mechanical-engineering-msc-eng-\"\n",
    "response= requests.get(link)\n",
    "soup= BeautifulSoup(response.content, \"html.parser\")"
   ]
  },
  {
   "cell_type": "code",
   "execution_count": 43,
   "metadata": {},
   "outputs": [
    {
     "name": "stdout",
     "output_type": "stream",
     "text": [
      "[{'student_category': 'UK', 'study_mode': 'Full-time', 'duration': '12 months full time', 'tuition': '£13,750 (Total)'}, {'student_category': 'International', 'study_mode': 'Full-time', 'duration': '12 months full time', 'tuition': '£31,000 (Total)'}]\n"
     ]
    }
   ],
   "source": [
    "tuitions=[]\n",
    "durations=\"12 months full time\"\n",
    "for duration in durations.split(','):\n",
    "    if \"full time\" in duration:\n",
    "        study_mode=\"Full-time\"\n",
    "    elif \"part time\" in duration:\n",
    "        study_mode=\"Part-time\"\n",
    "    selector=soup.select('#main .uol-key-facts dt')\n",
    "    for i in selector:\n",
    "        if(i.text.lower()==\"uk fees\"):\n",
    "            student_category=\"UK\"\n",
    "            fee=i.findNext('dd').text\n",
    "            tuitions.append({\"student_category\":student_category, \"study_mode\":study_mode, \"duration\":duration, \"tuition\":fee})\n",
    "        elif(i.text.lower()==\"international fees\"):\n",
    "            student_category=\"International\"\n",
    "            fee=i.findNext('dd').text\n",
    "            tuitions.append({\"student_category\":student_category, \"study_mode\":study_mode, \"duration\":duration, \"tuition\":fee})\n",
    "print(tuitions)\n",
    "    \n",
    "    "
   ]
  },
  {
   "cell_type": "code",
   "execution_count": null,
   "metadata": {},
   "outputs": [],
   "source": [
    "ok= soup.select('h2 a')\n",
    "for i in ok:\n",
    "    link= i.get('href')\n",
    "    print(link)\n",
    "    title= i.text\n",
    "    print(title)\n",
    "    qualification=i.text.split(\" \")[-1]\n",
    "    if(qualification==\"(Eng)\"):\n",
    "        qualification=i.text.split(\" \")[-2]\n",
    "    if(qualification==\"Certificate\"):\n",
    "        qualification=\"Postgraduate Certificate\"\n",
    "    if(qualification==\"Diploma\"):\n",
    "        qualification=\"Postgraduate Diploma\"\n",
    "    print(qualification)\n",
    "    durations= i.findNext('dl').text.replace(\"Duration\",\"\").strip()\n",
    "    print(durations)\n",
    "\n"
   ]
  },
  {
   "cell_type": "code",
   "execution_count": null,
   "metadata": {},
   "outputs": [],
   "source": []
  },
  {
   "cell_type": "code",
   "execution_count": 13,
   "metadata": {},
   "outputs": [],
   "source": [
    "playwright = await async_playwright().start()\n",
    "browser = await playwright.chromium.launch(headless = True)\n",
    "page = await browser.new_page()\n",
    "\n",
    "await page.goto(\"https://webprod3.leeds.ac.uk/catalogue/modulesearch.asp?L=TP&Y=202425&E=all&N=all&S=+&A=any\")\n",
    "content = await page.content()\n",
    "\n",
    "await browser.close()\n",
    "await playwright.stop()\n",
    "soup = BeautifulSoup(content, \"html.parser\")"
   ]
  },
  {
   "cell_type": "code",
   "execution_count": 14,
   "metadata": {},
   "outputs": [],
   "source": [
    "#leeds_module_link\n",
    "modules_link_map= {}\n",
    "tables = soup.find_all('table', {'width': '100%'})\n",
    "for table in tables:\n",
    "    for row in table.find_all('tr'):\n",
    "        name= row.select('td')[3].text.strip().lower()\n",
    "        link= row.select('td')[2].find('a')['href']\n",
    "        link= f'https://webprod3.leeds.ac.uk/catalogue/{link}'\n",
    "        modules_link_map[name]= link\n"
   ]
  },
  {
   "cell_type": "code",
   "execution_count": 31,
   "metadata": {},
   "outputs": [],
   "source": [
    "link= 'https://courses.leeds.ac.uk/j634/teaching-english-for-academic-purposes-ma#content'\n",
    "response= requests.get(link)\n",
    "soup= BeautifulSoup(response.content, 'html.parser')"
   ]
  },
  {
   "cell_type": "code",
   "execution_count": 35,
   "metadata": {},
   "outputs": [
    {
     "name": "stdout",
     "output_type": "stream",
     "text": [
      "[{'title': 'Participants, Practices and Pedagogies in Academic Communication', 'type': 'Compulsory', 'link': 'https://webprod3.leeds.ac.uk/catalogue/dynmodules.asp?Y=202425&M=ELU-5001M'}, {'title': 'Knowledge, Politics and Cultures in Academia', 'type': 'Compulsory', 'link': 'https://webprod3.leeds.ac.uk/catalogue/dynmodules.asp?Y=202425&M=ELU-5002M'}, {'title': 'Text Analysis', 'type': 'Compulsory', 'link': 'https://webprod3.leeds.ac.uk/catalogue/dynmodules.asp?Y=202425&M=ELU-5003M'}, {'title': 'Dissertation or Portfolio', 'type': 'Compulsory', 'link': ''}, {'title': 'Principles of Curriculum and Assessment Design', 'type': 'Optional', 'link': 'https://webprod3.leeds.ac.uk/catalogue/dynmodules.asp?Y=202425&M=ELU-5004M'}, {'title': 'Practioner Development and Scholarship', 'type': 'Optional', 'link': ''}, {'title': 'Academic Leadership', 'type': 'Optional', 'link': 'https://webprod3.leeds.ac.uk/catalogue/dynmodules.asp?Y=202425&M=ELU-5006M'}, {'title': 'Ethics and Malpractice in HE', 'type': 'Optional', 'link': 'https://webprod3.leeds.ac.uk/catalogue/dynmodules.asp?Y=202425&M=ELU-5007M'}, {'title': 'Intercultural Communications in HE', 'type': 'Optional', 'link': ''}]\n"
     ]
    }
   ],
   "source": [
    "modules=[]\n",
    "try:\n",
    "    modules=[]\n",
    "    selector=soup.select('#section-content  table tr')\n",
    "    for i in selector:\n",
    "        if(i.select('th')):\n",
    "            continue\n",
    "        title= i.select('td')[0].text.strip()\n",
    "        type_text=i.find_previous('h4').text.lower().strip()\n",
    "        if(type_text.find(\"optional\")!=-1):\n",
    "            type=\"Optional\"\n",
    "        else:\n",
    "            type=\"Compulsory\"\n",
    "        try:\n",
    "            link= modules_link_map[title.lower().strip()]\n",
    "        except:\n",
    "            link= \"\"\n",
    "        modules.append({\"title\":title, \"type\":type,\"link\":link})\n",
    "except:\n",
    "    pass\n",
    "try:\n",
    "    language=soup.select_one('h1.page-heading__title')\n",
    "    if(language.text.lower().find(\"language for\")!=-1):\n",
    "        title=language.text.strip()\n",
    "        type=\"Compulsory\"\n",
    "        link=\"\"\n",
    "        modules.append({\"title\":title, \"type\":type,\"link\":link})\n",
    "except:\n",
    "    pass\n",
    "try:\n",
    "    selector=soup.select('#section-content div p strong')\n",
    "    for i in selector:\n",
    "        title= i.text.strip()\n",
    "        if(title==\"Optional modules\" or title==\"Compulsory modules\"):\n",
    "            continue\n",
    "        type_text=i.find_previous('h3').text.lower().strip()\n",
    "        if(type_text.find(\"optional\")!=-1):\n",
    "            type=\"Optional\"\n",
    "        else:\n",
    "            type=\"Compulsory\"\n",
    "        try:\n",
    "            finder= title.split(\"(\")[0].strip().lower()\n",
    "            link= modules_link_map[finder]\n",
    "        except:\n",
    "            link= \"\"\n",
    "        modules.append({\"title\":title, \"type\":type,\"link\":link})\n",
    "except:\n",
    "    pass\n",
    "try:\n",
    "    selector=soup.select('#section-content div li')\n",
    "    for i in selector:\n",
    "        title= i.text.split(\"-\")[0].strip()\n",
    "        if(title==\"Optional modules\" or title==\"Compulsory modules\"):\n",
    "            continue\n",
    "        try:\n",
    "            type_text=i.find_previous('h3').text.lower().strip()\n",
    "        except:\n",
    "            type_text=i.find_previous('strong').text.lower().strip()\n",
    "        if(type_text.find(\"optional\")!=-1):\n",
    "            type=\"Optional\"\n",
    "        else:\n",
    "            type=\"Compulsory\"\n",
    "        try:\n",
    "            finder= title.split(\"(\")[0].strip().lower()\n",
    "            link= modules_link_map[finder]\n",
    "        except:\n",
    "            link= \"\"\n",
    "        modules.append({\"title\":title, \"type\":type,\"link\":link})\n",
    "except:\n",
    "    pass\n",
    "\n",
    "print(modules)\n",
    "\n"
   ]
  },
  {
   "cell_type": "code",
   "execution_count": 34,
   "metadata": {},
   "outputs": [
    {
     "ename": "AttributeError",
     "evalue": "'NoneType' object has no attribute 'text'",
     "output_type": "error",
     "traceback": [
      "\u001b[0;31m---------------------------------------------------------------------------\u001b[0m",
      "\u001b[0;31mAttributeError\u001b[0m                            Traceback (most recent call last)",
      "Cell \u001b[0;32mIn[34], line 6\u001b[0m\n\u001b[1;32m      4\u001b[0m \u001b[38;5;28;01mif\u001b[39;00m(title\u001b[38;5;241m==\u001b[39m\u001b[38;5;124m\"\u001b[39m\u001b[38;5;124mOptional modules\u001b[39m\u001b[38;5;124m\"\u001b[39m \u001b[38;5;129;01mor\u001b[39;00m title\u001b[38;5;241m==\u001b[39m\u001b[38;5;124m\"\u001b[39m\u001b[38;5;124mCompulsory modules\u001b[39m\u001b[38;5;124m\"\u001b[39m):\n\u001b[1;32m      5\u001b[0m     \u001b[38;5;28;01mcontinue\u001b[39;00m\n\u001b[0;32m----> 6\u001b[0m type_text\u001b[38;5;241m=\u001b[39m\u001b[43mi\u001b[49m\u001b[38;5;241;43m.\u001b[39;49m\u001b[43mfind_previous\u001b[49m\u001b[43m(\u001b[49m\u001b[38;5;124;43m'\u001b[39;49m\u001b[38;5;124;43mh3\u001b[39;49m\u001b[38;5;124;43m'\u001b[39;49m\u001b[43m)\u001b[49m\u001b[38;5;241;43m.\u001b[39;49m\u001b[43mtext\u001b[49m\u001b[38;5;241m.\u001b[39mlower()\u001b[38;5;241m.\u001b[39mstrip()\n\u001b[1;32m      7\u001b[0m \u001b[38;5;28;01mif\u001b[39;00m(type_text\u001b[38;5;241m.\u001b[39mfind(\u001b[38;5;124m\"\u001b[39m\u001b[38;5;124moptional\u001b[39m\u001b[38;5;124m\"\u001b[39m)\u001b[38;5;241m!=\u001b[39m\u001b[38;5;241m-\u001b[39m\u001b[38;5;241m1\u001b[39m):\n\u001b[1;32m      8\u001b[0m     \u001b[38;5;28mtype\u001b[39m\u001b[38;5;241m=\u001b[39m\u001b[38;5;124m\"\u001b[39m\u001b[38;5;124mOptional\u001b[39m\u001b[38;5;124m\"\u001b[39m\n",
      "\u001b[0;31mAttributeError\u001b[0m: 'NoneType' object has no attribute 'text'"
     ]
    }
   ],
   "source": [
    "selector=soup.select('#section-content div li')\n",
    "for i in selector:\n",
    "    title= i.text.split(\"-\")[0].strip()\n",
    "    if(title==\"Optional modules\" or title==\"Compulsory modules\"):\n",
    "        continue\n",
    "    type_text=i.find_previous('h3').text.lower().strip()\n",
    "    if(type_text.find(\"optional\")!=-1):\n",
    "        type=\"Optional\"\n",
    "    else:\n",
    "        type=\"Compulsory\"\n",
    "    try:\n",
    "        finder= title.split(\"(\")[0].strip().lower()\n",
    "        link= modules_link_map[finder]\n",
    "    except:\n",
    "        link= \"\"\n",
    "    modules.append({\"title\":title, \"type\":type,\"link\":link})"
   ]
  },
  {
   "cell_type": "code",
   "execution_count": 43,
   "metadata": {},
   "outputs": [],
   "source": [
    "\n"
   ]
  },
  {
   "cell_type": "code",
   "execution_count": null,
   "metadata": {},
   "outputs": [],
   "source": [
    "\n",
    "\n",
    "    \n",
    "    \n"
   ]
  },
  {
   "cell_type": "code",
   "execution_count": null,
   "metadata": {},
   "outputs": [],
   "source": []
  },
  {
   "cell_type": "code",
   "execution_count": null,
   "metadata": {},
   "outputs": [],
   "source": [
    "table = soup.find_all('table', {'width': '100%'})\n",
    "print(table)"
   ]
  },
  {
   "cell_type": "code",
   "execution_count": 12,
   "metadata": {},
   "outputs": [],
   "source": [
    "link= 'https://warwick.ac.uk/services/finance/studentfinance/fees/postgraduatefees/'\n",
    "response= requests.get(link)\n",
    "soup= BeautifulSoup(response.content, 'html.parser')"
   ]
  },
  {
   "cell_type": "code",
   "execution_count": 13,
   "metadata": {},
   "outputs": [
    {
     "name": "stdout",
     "output_type": "stream",
     "text": [
      "{'Accounting and Finance (MSc)': [{'study_mode': 'Full Time', 'duration': '', 'student_category': 'Home', 'fee': '£33,200'}, {'study_mode': 'Full Time', 'duration': '', 'student_category': 'Overseas', 'fee': '£40,700'}], 'Advanced Legal Studies (LLM)': [{'study_mode': 'Full Time', 'duration': '', 'student_category': 'Home', 'fee': '£11,060'}, {'study_mode': 'Full Time', 'duration': '', 'student_category': 'Overseas', 'fee': '£22,560'}, {'study_mode': 'Part Time', 'duration': '', 'student_category': 'Home', 'fee': '£5,530'}, {'study_mode': 'Part Time', 'duration': '', 'student_category': 'Overseas', 'fee': '£11,280'}], 'Advanced Management (Postgraduate Diploma)': [{'study_mode': 'Part Time', 'duration': '', 'student_category': 'ALL', 'fee': '£18,550'}], 'Advanced Mechanical Engineering (MSc)': [{'study_mode': 'Full Time', 'duration': '', 'student_category': 'Home', 'fee': '£11,600'}, {'study_mode': 'Full Time', 'duration': '', 'student_category': 'Overseas', 'fee': '£28,190'}], 'Analytical and Polymer Science (MSc)': [{'study_mode': 'Full Time', 'duration': '', 'student_category': 'Home', 'fee': '£11,600'}, {'study_mode': 'Full Time', 'duration': '', 'student_category': 'Overseas', 'fee': '£33,340'}], 'Analytical Sciences and Instrumentation (MSc)': [{'study_mode': 'Full Time', 'duration': '', 'student_category': 'Home', 'fee': '£11,600'}, {'study_mode': 'Full Time', 'duration': '', 'student_category': 'Overseas', 'fee': '£33,340'}, {'study_mode': 'Part Time', 'duration': '', 'student_category': 'Home', 'fee': '£5,800'}, {'study_mode': 'Part Time', 'duration': '', 'student_category': 'Overseas', 'fee': '£16,670'}], 'Ancient Literature and Thought (MA)': [{'study_mode': 'Full Time', 'duration': '', 'student_category': 'Home', 'fee': '£11,060'}, {'study_mode': 'Full Time', 'duration': '', 'student_category': 'Overseas', 'fee': '£26,110'}, {'study_mode': 'Part Time', 'duration': '', 'student_category': 'Home', 'fee': '£5,530'}, {'study_mode': 'Part Time', 'duration': '', 'student_category': 'Overseas', 'fee': '£13,055'}], 'Ancient Visual and Material Culture (MA)': [{'study_mode': 'Full Time', 'duration': '', 'student_category': 'Home', 'fee': '£11,060'}, {'study_mode': 'Full Time', 'duration': '', 'student_category': 'Overseas', 'fee': '£26,110'}, {'study_mode': 'Part Time', 'duration': '', 'student_category': 'Home', 'fee': '£5,530'}, {'study_mode': 'Part Time', 'duration': '', 'student_category': 'Overseas', 'fee': '£13,055'}], 'Applied Theatre: Arts, Action, Change (MA)': [{'study_mode': 'Full Time', 'duration': '', 'student_category': 'Home', 'fee': '£11,600'}, {'study_mode': 'Full Time', 'duration': '', 'student_category': 'Overseas', 'fee': '£26,110'}, {'study_mode': 'Part Time', 'duration': '', 'student_category': 'Home', 'fee': '£5,800'}, {'study_mode': 'Part Time', 'duration': '', 'student_category': 'Overseas', 'fee': '£13,055'}], 'Arts, Enterprise and Development (MA)': [{'study_mode': 'Full Time', 'duration': '', 'student_category': 'Home', 'fee': '£11,600'}, {'study_mode': 'Full Time', 'duration': '', 'student_category': 'Overseas', 'fee': '£26,110'}, {'study_mode': 'Part Time', 'duration': '', 'student_category': 'Home', 'fee': '£5,800'}], 'Behavioural and Data Science (MSc)': [{'study_mode': 'Full Time', 'duration': '', 'student_category': 'ALL', 'fee': '£28,190'}], 'Behavioural and Economic Science (Economics Track) (MSc)': [{'study_mode': 'Full Time', 'duration': '', 'student_category': 'ALL', 'fee': '£28,190'}], 'Behavioural and Economic Science (Science Track) (MSc)': [{'study_mode': 'Full Time', 'duration': '', 'student_category': 'ALL', 'fee': '£28,190'}], 'Behavioural Science (Postgraduate Diploma)': [{'study_mode': 'Part Time', 'duration': '', 'student_category': 'ALL', 'fee': '£18,550'}], 'Big Data and Digital Futures (MSc)': [{'study_mode': 'Full Time', 'duration': '', 'student_category': 'Home', 'fee': '£12,830'}, {'study_mode': 'Full Time', 'duration': '', 'student_category': 'Overseas', 'fee': '£27,490'}, {'study_mode': 'Part Time', 'duration': '', 'student_category': 'Home', 'fee': '£6,415'}, {'study_mode': 'Part Time', 'duration': '', 'student_category': 'Overseas', 'fee': '£13,745'}], 'Big Data and Digital Futures (Postgraduate Diploma)': [{'study_mode': 'Full Time', 'duration': '', 'student_category': 'Home', 'fee': 'TBA'}, {'study_mode': 'Full Time', 'duration': '', 'student_category': 'Overseas', 'fee': 'TBA'}, {'study_mode': 'Part Time', 'duration': '', 'student_category': 'Home', 'fee': 'TBA'}, {'study_mode': 'Part Time', 'duration': '', 'student_category': 'Overseas', 'fee': 'TBA'}], 'Biomedical Engineering (MSc)': [{'study_mode': 'Full Time', 'duration': '', 'student_category': 'Home', 'fee': '£11,600'}, {'study_mode': 'Full Time', 'duration': '', 'student_category': 'Overseas', 'fee': '£28,190'}], 'Biotechnology, Bioprocessing and Business Management (MSc)': [{'study_mode': 'Full Time', 'duration': '', 'student_category': 'Home', 'fee': '£11,600'}, {'study_mode': 'Full Time', 'duration': '', 'student_category': 'Overseas', 'fee': '£33,340'}, {'study_mode': 'Part Time', 'duration': '', 'student_category': 'Home', 'fee': '£5,800'}, {'study_mode': 'Part Time', 'duration': '', 'student_category': 'Overseas', 'fee': '£16,670'}], 'Business Administration (MBA)': [{'study_mode': 'Full Time', 'duration': '', 'student_category': 'ALL', 'fee': '£53,750'}], 'Business Analytics (MSc)': [{'study_mode': 'Full Time', 'duration': '', 'student_category': 'Home', 'fee': '£27,850'}, {'study_mode': 'Full Time', 'duration': '', 'student_category': 'Overseas', 'fee': '£35,350'}], 'Business and Finance (MSc)': [{'study_mode': 'Full Time', 'duration': '', 'student_category': 'Home', 'fee': '£29,900'}, {'study_mode': 'Full Time', 'duration': '', 'student_category': 'Overseas', 'fee': '£37,150'}], 'Business with Accounting and Finance (MSc) (now closed)': [{'study_mode': 'Full Time', 'duration': '', 'student_category': 'Home', 'fee': '-'}, {'study_mode': 'Full Time', 'duration': '', 'student_category': 'Overseas', 'fee': '-'}], 'Business with Consulting (MSc) (now closed)': [{'study_mode': 'Full Time', 'duration': '', 'student_category': 'Home', 'fee': '-'}, {'study_mode': 'Full Time', 'duration': '', 'student_category': 'Overseas', 'fee': '-'}], 'Business with Marketing (MSc)': [{'study_mode': 'Full Time', 'duration': '', 'student_category': 'Home', 'fee': '£27,300'}, {'study_mode': 'Full Time', 'duration': '', 'student_category': 'Overseas', 'fee': '£34,550'}], 'Business with Operations Management (MSc)': [{'study_mode': 'Full Time', 'duration': '', 'student_category': 'Home', 'fee': '£27,300'}, {'study_mode': 'Full Time', 'duration': '', 'student_category': 'Overseas', 'fee': '£34,550'}], 'Career Development and Coaching Studies (MA)': [{'study_mode': 'Full Time', 'duration': '', 'student_category': 'Home', 'fee': '£11,600'}, {'study_mode': 'Full Time', 'duration': '', 'student_category': 'Overseas', 'fee': '£27,490'}], 'Chemistry with Scientific Writing (MSc)': [{'study_mode': 'Full Time', 'duration': '', 'student_category': 'Home', 'fee': '£11,600'}, {'study_mode': 'Full Time', 'duration': '', 'student_category': 'Overseas', 'fee': '£33,340'}], 'Childhood in Society (MA)': [{'study_mode': 'Full Time', 'duration': '', 'student_category': 'Home', 'fee': '£11,600'}, {'study_mode': 'Full Time', 'duration': '', 'student_category': 'Overseas', 'fee': '£26,110'}], 'Clinical Applications of Psychology (MSc)': [{'study_mode': 'Full Time', 'duration': '', 'student_category': 'Home', 'fee': '£12,785'}, {'study_mode': 'Full Time', 'duration': '', 'student_category': 'Overseas', 'fee': '£26,110'}], 'Communications and Information Engineering (MSc)': [{'study_mode': 'Full Time', 'duration': '', 'student_category': 'Home', 'fee': '£11,600'}, {'study_mode': 'Full Time', 'duration': '', 'student_category': 'Overseas', 'fee': '£28,190'}], 'Community, Engagement and Belonging (MASc)': [{'study_mode': 'Full Time', 'duration': '', 'student_category': 'Home', 'fee': '£11,060'}, {'study_mode': 'Full Time', 'duration': '', 'student_category': 'Overseas', 'fee': '£24,880'}], 'Computer Science (MSc)': [{'study_mode': 'Full Time', 'duration': '', 'student_category': 'Home', 'fee': '£11,600'}, {'study_mode': 'Full Time', 'duration': '', 'student_category': 'Overseas', 'fee': '£33,340'}], 'Continental Philosophy (MA)': [{'study_mode': 'Full Time', 'duration': '', 'student_category': 'Home', 'fee': '£11,600'}, {'study_mode': 'Full Time', 'duration': '', 'student_category': 'Overseas', 'fee': '£26,100'}, {'study_mode': 'Part Time', 'duration': '', 'student_category': 'Home', 'fee': '£5,800'}, {'study_mode': 'Part Time', 'duration': '', 'student_category': 'Overseas', 'fee': '£13,055'}], 'Creative and Media Enterprises (MA)': [{'study_mode': 'Full Time', 'duration': '', 'student_category': 'Home', 'fee': '£11,600'}, {'study_mode': 'Full Time', 'duration': '', 'student_category': 'Overseas', 'fee': '£26,110'}, {'study_mode': 'Part Time', 'duration': '', 'student_category': 'Home', 'fee': '£5,800'}], 'Critical and Cultural Theory (MA)': [{'study_mode': 'Full Time', 'duration': '', 'student_category': 'Home', 'fee': '£11,060'}, {'study_mode': 'Full Time', 'duration': '', 'student_category': 'Overseas', 'fee': '£24,880'}, {'study_mode': 'Part Time', 'duration': '', 'student_category': 'Home', 'fee': '£5,530'}, {'study_mode': 'Part Time', 'duration': '', 'student_category': 'Overseas', 'fee': '£12,440'}], 'Culture of the European Renaissance (MA)': [{'study_mode': 'Full Time', 'duration': '', 'student_category': 'Home', 'fee': '£11,600'}, {'study_mode': 'Full Time', 'duration': '', 'student_category': 'Overseas', 'fee': '£26,110'}, {'study_mode': 'Part Time', 'duration': '', 'student_category': 'Home', 'fee': '£5,800'}, {'study_mode': 'Part Time', 'duration': '', 'student_category': 'Overseas', 'fee': '£13,055'}], 'Cyber Security Engineering (MSc)': [{'study_mode': 'Full Time', 'duration': '', 'student_category': 'Home', 'fee': '£18,180'}, {'study_mode': 'Full Time', 'duration': '', 'student_category': 'Overseas', 'fee': '£33,340'}], 'Cyber Security Management (MSc)': [{'study_mode': 'Full Time', 'duration': '', 'student_category': 'Home', 'fee': '£18,180'}, {'study_mode': 'Full Time', 'duration': '', 'student_category': 'Overseas', 'fee': '£33,340'}], 'Data Analytics (MSc)': [{'study_mode': 'Full Time', 'duration': '', 'student_category': 'Home', 'fee': '£11,600'}, {'study_mode': 'Full Time', 'duration': '', 'student_category': 'Overseas', 'fee': '£33,340'}], 'Data Visualisation (MASc)': [{'study_mode': 'Full Time', 'duration': '', 'student_category': 'Home', 'fee': '£12,830'}, {'study_mode': 'Full Time', 'duration': '', 'student_category': 'Overseas', 'fee': '£27,490'}, {'study_mode': 'Part Time', 'duration': '', 'student_category': 'Home', 'fee': '£6,415'}, {'study_mode': 'Part Time', 'duration': '', 'student_category': 'Overseas', 'fee': '£13,745'}], 'Diagnostics, Data and Digital Health (MSc)': [{'study_mode': 'Full Time', 'duration': '', 'student_category': 'Home', 'fee': '£11,600'}, {'study_mode': 'Full Time', 'duration': '', 'student_category': 'Overseas', 'fee': '£28,190'}, {'study_mode': 'Part Time', 'duration': '', 'student_category': 'Home', 'fee': '£5,800'}, {'study_mode': 'Part Time', 'duration': '', 'student_category': 'Overseas', 'fee': '£14,095'}], 'Diagnostics, Data and Digital Health (Medical Diagnostics) (MSc)': [{'study_mode': 'Full Time', 'duration': '', 'student_category': 'Home', 'fee': '£11,600'}, {'study_mode': 'Full Time', 'duration': '', 'student_category': 'Overseas', 'fee': '£28,190'}, {'study_mode': 'Part Time', 'duration': '', 'student_category': 'Home', 'fee': '£5,800'}, {'study_mode': 'Part Time', 'duration': '', 'student_category': 'Overseas', 'fee': '£14,095'}], 'Diagnostics, Data and Digital Health (Medical Imaging) (MSc)': [{'study_mode': 'Full Time', 'duration': '', 'student_category': 'Home', 'fee': '£11,600'}, {'study_mode': 'Full Time', 'duration': '', 'student_category': 'Overseas', 'fee': '£28,190'}, {'study_mode': 'Part Time', 'duration': '', 'student_category': 'Home', 'fee': '£5,800'}, {'study_mode': 'Part Time', 'duration': '', 'student_category': 'Overseas', 'fee': '£14,095'}], 'Digital Leadership (Postgraduate Diploma)': [{'study_mode': 'Part Time', 'duration': '', 'student_category': 'ALL', 'fee': '£18,550'}], 'Digital Media and Culture (MA)': [{'study_mode': 'Full Time', 'duration': '', 'student_category': 'Home', 'fee': '£12,830'}, {'study_mode': 'Full Time', 'duration': '', 'student_category': 'Overseas', 'fee': '£27,490'}, {'study_mode': 'Part Time', 'duration': '', 'student_category': 'Home', 'fee': '£6,415'}, {'study_mode': 'Part Time', 'duration': '', 'student_category': 'Overseas', 'fee': '£13,745'}], 'Digital Transformation for Healthcare (MSc)': [{'study_mode': 'Full Time', 'duration': '', 'student_category': 'Home', 'fee': '£18,180'}, {'study_mode': 'Full Time', 'duration': '', 'student_category': 'Overseas', 'fee': '£33,340'}], 'Drama and Theatre Education (MA)': [{'study_mode': 'Full Time', 'duration': '', 'student_category': 'Home', 'fee': '£11,600'}, {'study_mode': 'Full Time', 'duration': '', 'student_category': 'Overseas', 'fee': '£26,110'}, {'study_mode': 'Part Time', 'duration': '', 'student_category': 'Home', 'fee': '£5,800'}, {'study_mode': 'Part Time', 'duration': '', 'student_category': 'Overseas', 'fee': '£13,055'}], 'Drama Education and English Language Teaching (MA)': [{'study_mode': 'Full Time', 'duration': '', 'student_category': 'Home', 'fee': '£11,600'}, {'study_mode': 'Full Time', 'duration': '', 'student_category': 'Overseas', 'fee': '£26,110'}], 'Early Modern History (MA)': [{'study_mode': 'Full Time', 'duration': '', 'student_category': 'Home', 'fee': '£11,060'}, {'study_mode': 'Full Time', 'duration': '', 'student_category': 'Overseas', 'fee': '£24,880'}, {'study_mode': 'Part Time', 'duration': '', 'student_category': 'Home', 'fee': '£5,530'}, {'study_mode': 'Part Time', 'duration': '', 'student_category': 'Overseas', 'fee': '£12,440'}], 'e-Business Management (MSc)': [{'study_mode': 'Full Time', 'duration': '', 'student_category': 'Home', 'fee': '£18,180'}, {'study_mode': 'Full Time', 'duration': '', 'student_category': 'Overseas', 'fee': '£33,340'}], 'Economics (Diploma plus MSc) - year 1': [{'study_mode': 'Full Time', 'duration': '', 'student_category': 'ALL', 'fee': '£23,995'}], 'Economics (MRes) - year 1': [{'study_mode': 'Full Time', 'duration': '', 'student_category': 'ALL', 'fee': '£23,065'}], 'Economics (MRes) - year 2': [{'study_mode': 'Full Time', 'duration': '', 'student_category': 'All', 'fee': '£13,440'}], 'Economics (MRes plus PhD) - year 1': [{'study_mode': 'Full Time', 'duration': '', 'student_category': 'ALL', 'fee': '£23,065'}], 'Economics (MRes plus PhD) - year 2': [{'study_mode': 'Full Time', 'duration': '', 'student_category': 'ALL', 'fee': '£13,440'}], 'Economics (MSc)': [{'study_mode': 'Full Time', 'duration': '', 'student_category': 'Home', 'fee': '£27,490'}, {'study_mode': 'Full Time', 'duration': '', 'student_category': 'Overseas', 'fee': '£31,090'}], 'Economics and International Financial Economics (MSc)': [{'study_mode': 'Full Time', 'duration': '', 'student_category': 'Home', 'fee': '£27,490'}, {'study_mode': 'Full Time', 'duration': '', 'student_category': 'Overseas', 'fee': '£31,090'}], 'Education (MA)': [{'study_mode': 'Full Time', 'duration': '', 'student_category': 'Home', 'fee': '£11,600'}, {'study_mode': 'Full Time', 'duration': '', 'student_category': 'Overseas', 'fee': '£26,110'}, {'study_mode': 'Part Time', 'duration': '', 'student_category': 'Home', 'fee': '£5,800'}, {'study_mode': 'Part Time', 'duration': '', 'student_category': 'Overseas', 'fee': '£13,055'}], 'Education (FE and Skills) (Postgraduate Diploma) (now closed)': [{'study_mode': 'Full Time', 'duration': '', 'student_category': 'Home', 'fee': '-'}, {'study_mode': 'Full Time', 'duration': '', 'student_category': 'Overseas', 'fee': '-'}], 'Educational Innovation (MA)': [{'study_mode': 'Part Time', 'duration': '', 'student_category': 'Home', 'fee': '£5,800'}, {'study_mode': 'Part Time', 'duration': '', 'student_category': 'Overseas', 'fee': '£13,055'}], 'Educational Leadership and Management (MA)': [{'study_mode': 'Full Time', 'duration': '', 'student_category': 'Home', 'fee': '£11,600'}, {'study_mode': 'Full Time', 'duration': '', 'student_category': 'Overseas', 'fee': '£26,110'}, {'study_mode': 'Part Time', 'duration': '', 'student_category': 'Home', 'fee': '£5,800'}, {'study_mode': 'Part Time', 'duration': '', 'student_category': 'Overseas', 'fee': '£13,055'}], 'Electrical and Electronic Engineering (MSc)': [{'study_mode': 'Full Time', 'duration': '', 'student_category': 'Home', 'fee': '£11,600'}, {'study_mode': 'Full Time', 'duration': '', 'student_category': 'Overseas', 'fee': '£28,190'}], 'Electrical Power Engineering (MSc)': [{'study_mode': 'Full Time', 'duration': '', 'student_category': 'Home', 'fee': '£11,600'}, {'study_mode': 'Full Time', 'duration': '', 'student_category': 'Overseas', 'fee': '£28,190'}], 'Engineering Business Leadership (MSc)': [{'study_mode': 'Part Time', 'duration': '', 'student_category': 'ALL', 'fee': '£9,090'}], 'Engineering Business Management (MSc)': [{'study_mode': 'Full Time', 'duration': '', 'student_category': 'Home', 'fee': '£18,180'}, {'study_mode': 'Full Time', 'duration': '', 'student_category': 'Overseas', 'fee': '£33,340'}], 'English and Drama (MA)': [{'study_mode': 'Full Time', 'duration': '', 'student_category': 'Home', 'fee': '£11,060'}, {'study_mode': 'Full Time', 'duration': '', 'student_category': 'Overseas', 'fee': '£24,880'}, {'study_mode': 'Part Time', 'duration': '', 'student_category': 'Home', 'fee': '£5,530'}, {'study_mode': 'Part Time', 'duration': '', 'student_category': 'Overseas', 'fee': '£12,440'}], 'English Literature (MA)': [{'study_mode': 'Full Time', 'duration': '', 'student_category': 'Home', 'fee': '£11,060'}, {'study_mode': 'Full Time', 'duration': '', 'student_category': 'Overseas', 'fee': '£24,880'}, {'study_mode': 'Part Time', 'duration': '', 'student_category': 'Home', 'fee': '£5,530'}, {'study_mode': 'Part Time', 'duration': '', 'student_category': 'Overseas', 'fee': '£12,440'}], 'Environmental Bioscience in a Changing Climate (MSc)': [{'study_mode': 'Full Time', 'duration': '', 'student_category': 'Home', 'fee': '£11,600'}, {'study_mode': 'Full Time', 'duration': '', 'student_category': 'Overseas', 'fee': '£33,340'}, {'study_mode': 'Part Time', 'duration': '', 'student_category': 'Home', 'fee': '£5,800'}, {'study_mode': 'Part Time', 'duration': '', 'student_category': 'Overseas', 'fee': '£16,670'}], 'Environmental Humanities (MA)': [{'study_mode': 'Full Time', 'duration': '', 'student_category': 'Home', 'fee': '£11,060'}, {'study_mode': 'Full Time', 'duration': '', 'student_category': 'Overseas', 'fee': '£24,880'}, {'study_mode': 'Part Time', 'duration': '', 'student_category': 'Home', 'fee': '£5,530'}, {'study_mode': 'Part Time', 'duration': '', 'student_category': 'Overseas', 'fee': '£12,440'}], 'Film and Television Studies (MA)': [{'study_mode': 'Full Time', 'duration': '', 'student_category': 'Home', 'fee': '£11,600'}, {'study_mode': 'Full Time', 'duration': '', 'student_category': 'Overseas', 'fee': '£26,110'}, {'study_mode': 'Part Time', 'duration': '', 'student_category': 'Home', 'fee': '£5,800'}, {'study_mode': 'Part Time', 'duration': '', 'student_category': 'Overseas', 'fee': '£13,055'}], 'Film and Television Studies (MA for Research)': [{'study_mode': 'Full Time', 'duration': '', 'student_category': 'Home', 'fee': '£11,600'}, {'study_mode': 'Full Time', 'duration': '', 'student_category': 'Overseas', 'fee': '£26,110'}, {'study_mode': 'Part Time', 'duration': '', 'student_category': 'Home', 'fee': '£5,800'}, {'study_mode': 'Part Time', 'duration': '', 'student_category': 'Overseas', 'fee': '£13,055'}], 'Finance (MSc)': [{'study_mode': 'Full Time', 'duration': '', 'student_category': 'Home', 'fee': '£35,500'}, {'study_mode': 'Full Time', 'duration': '', 'student_category': 'Overseas', 'fee': '£41,750'}], 'Finance and Economics (MSc)': [{'study_mode': 'Full Time', 'duration': '', 'student_category': 'Home', 'fee': '£32,600'}, {'study_mode': 'Full Time', 'duration': '', 'student_category': 'Overseas', 'fee': '£38,850'}], 'Fine Arts (MA) (now closed)': [{'study_mode': 'Full Time', 'duration': '', 'student_category': 'Home', 'fee': '-'}, {'study_mode': 'Full Time', 'duration': '', 'student_category': 'Overseas', 'fee': '-'}, {'study_mode': 'Part Time', 'duration': '', 'student_category': 'Home', 'fee': '-'}, {'study_mode': 'Part Time', 'duration': '', 'student_category': 'Overseas', 'fee': '-'}], 'Food Security (MSc)': [{'study_mode': 'Full Time', 'duration': '', 'student_category': 'Home', 'fee': '£11,600'}, {'study_mode': 'Full Time', 'duration': '', 'student_category': 'Overseas', 'fee': '£33,340'}, {'study_mode': 'Part Time', 'duration': '', 'student_category': 'Home', 'fee': '£5,800'}, {'study_mode': 'Part Time', 'duration': '', 'student_category': 'Overseas', 'fee': '£16,670'}], 'Games Engineering (MSc)': [{'study_mode': 'Full Time', 'duration': '', 'student_category': 'Home', 'fee': '£18,180'}, {'study_mode': 'Full Time', 'duration': '', 'student_category': 'Overseas', 'fee': '£33,340'}], 'Gender and International Development (MA)': [{'study_mode': 'Full Time', 'duration': '', 'student_category': 'Home', 'fee': '£11,600'}, {'study_mode': 'Full Time', 'duration': '', 'student_category': 'Overseas', 'fee': '£26,110'}, {'study_mode': 'Part Time', 'duration': '', 'student_category': 'Home', 'fee': '£5,800'}, {'study_mode': 'Part Time', 'duration': '', 'student_category': 'Overseas', 'fee': '£13,055'}], 'Gender and Sexuality (MA)': [{'study_mode': 'Full Time', 'duration': '', 'student_category': 'Home', 'fee': '£11,600'}, {'study_mode': 'Full Time', 'duration': '', 'student_category': 'Overseas', 'fee': '£26,110'}, {'study_mode': 'Part Time', 'duration': '', 'student_category': 'Home', 'fee': '£5,800'}, {'study_mode': 'Part Time', 'duration': '', 'student_category': 'Overseas', 'fee': '£13,055'}], 'Global and Comparative History (MA)': [{'study_mode': 'Full Time', 'duration': '', 'student_category': 'Home', 'fee': '£11,060'}, {'study_mode': 'Full Time', 'duration': '', 'student_category': 'Overseas', 'fee': '£26,105'}, {'study_mode': 'Part Time', 'duration': '', 'student_category': 'Home', 'fee': '£5,530'}, {'study_mode': 'Part Time', 'duration': '', 'student_category': 'Overseas', 'fee': '£13,054'}], 'Global Decarbonisation and Climate Change (MSc)': [{'study_mode': 'Full Time', 'duration': '', 'student_category': 'Home', 'fee': '£11,600'}, {'study_mode': 'Full Time', 'duration': '', 'student_category': 'Overseas', 'fee': '£28,190'}, {'study_mode': 'Part Time', 'duration': '', 'student_category': 'Home', 'fee': '£5,800'}, {'study_mode': 'Part Time', 'duration': '', 'student_category': 'Overseas', 'fee': '£14,095'}], 'Global Decarbonisation and Climate Change (Policy) (MSc)': [{'study_mode': 'Full Time', 'duration': '', 'student_category': 'Home', 'fee': '£11,600'}, {'study_mode': 'Full Time', 'duration': '', 'student_category': 'Overseas', 'fee': '£28,190'}, {'study_mode': 'Part Time', 'duration': '', 'student_category': 'Home', 'fee': '£5,800'}, {'study_mode': 'Part Time', 'duration': '', 'student_category': 'Overseas', 'fee': '\\n£14,095\\n'}], 'Global Decarbonisation and Climate Change (Science) (MSc)': [{'study_mode': 'Full Time', 'duration': '', 'student_category': 'Home', 'fee': '£11,600'}, {'study_mode': 'Full Time', 'duration': '', 'student_category': 'Overseas', 'fee': '£28,190'}, {'study_mode': 'Part Time', 'duration': '', 'student_category': 'Home', 'fee': '£5,800'}, {'study_mode': 'Part Time', 'duration': '', 'student_category': 'Overseas', 'fee': '£14,095'}], 'Global Education and International Development (MA)': [{'study_mode': 'Full Time', 'duration': '', 'student_category': 'Home', 'fee': '£11,600'}, {'study_mode': 'Full Time', 'duration': '', 'student_category': 'Overseas', 'fee': '£26,110'}, {'study_mode': 'Part Time', 'duration': '', 'student_category': 'Home', 'fee': '£5,800'}, {'study_mode': 'Part Time', 'duration': '', 'student_category': 'Overseas', 'fee': '£13,055'}], 'Global Governance (Double MA)\\n(with University of Waterloo, Canada)': [{'study_mode': 'Full Time', 'duration': '', 'student_category': 'Home', 'fee': '£16,180'}, {'study_mode': 'Full Time', 'duration': '', 'student_category': 'Overseas', 'fee': '£28,190'}], 'Global Media and Communication (MA)': [{'study_mode': 'Full Time', 'duration': '', 'student_category': 'Home', 'fee': '£11,600'}, {'study_mode': 'Full Time', 'duration': '', 'student_category': 'Overseas', 'fee': '£26,110'}, {'study_mode': 'Part Time', 'duration': '', 'student_category': 'Home', 'fee': '£5,800'}], 'Global Sustainable Development (MASc)': [{'study_mode': 'Full Time', 'duration': '', 'student_category': 'Home', 'fee': '£11,060'}, {'study_mode': 'Full Time', 'duration': '', 'student_category': 'Overseas', 'fee': '£24,880'}], 'Health Research (MSc) (now closed)': [{'study_mode': 'Full Time', 'duration': '', 'student_category': 'Home', 'fee': '-'}, {'study_mode': 'Full Time', 'duration': '', 'student_category': 'Overseas', 'fee': '-'}], 'Health Sciences (MSc) (now closed)': [{'study_mode': 'Full Time', 'duration': '', 'student_category': 'Home', 'fee': '-'}, {'study_mode': 'Full Time', 'duration': '', 'student_category': 'Overseas', 'fee': '-'}], 'Healthcare Operational Management (MSc)': [{'study_mode': 'Full Time', 'duration': '', 'student_category': 'Home', 'fee': '£18,180'}, {'study_mode': 'Full Time', 'duration': '', 'student_category': 'Overseas', 'fee': '£33,340'}], 'History of Art (Postgraduate Diploma)': [{'study_mode': 'Full Time', 'duration': '', 'student_category': 'Home', 'fee': 'TBA'}, {'study_mode': 'Full Time', 'duration': '', 'student_category': 'Overseas', 'fee': 'TBA'}, {'study_mode': 'Part Time', 'duration': '', 'student_category': 'Home', 'fee': 'TBA'}, {'study_mode': 'Part Time', 'duration': '', 'student_category': 'Overseas', 'fee': 'TBA'}], 'History of Art and Visual Studies (MA)': [{'study_mode': 'Full Time', 'duration': '', 'student_category': 'Home', 'fee': '£11,600'}, {'study_mode': 'Full Time', 'duration': '', 'student_category': 'Overseas', 'fee': '£26,110'}, {'study_mode': 'Part Time', 'duration': '', 'student_category': 'Home', 'fee': '£5,800'}, {'study_mode': 'Part Time', 'duration': '', 'student_category': 'Overseas', 'fee': '£13,055'}], 'History of Medicine (MA)': [{'study_mode': 'Full Time', 'duration': '', 'student_category': 'Home', 'fee': '£11,060'}, {'study_mode': 'Full Time', 'duration': '', 'student_category': 'Overseas', 'fee': '£26,105'}, {'study_mode': 'Part Time', 'duration': '', 'student_category': 'Home', 'fee': '£5,530'}, {'study_mode': 'Part Time', 'duration': '', 'student_category': 'Overseas', 'fee': '£13,054'}], 'Humanitarian Engineering (MSc)': [{'study_mode': 'Full Time', 'duration': '', 'student_category': 'Home', 'fee': '£11,600'}, {'study_mode': 'Full Time', 'duration': '', 'student_category': 'Overseas', 'fee': '£26,110'}, {'study_mode': 'Part Time', 'duration': '', 'student_category': 'Home', 'fee': '£5,800'}, {'study_mode': 'Part Time', 'duration': '', 'student_category': 'Overseas', 'fee': '£13,055'}], 'Information Engineering (CUSP) (MSc) (now closed)': [{'study_mode': 'Full Time', 'duration': '', 'student_category': 'Home', 'fee': '-'}, {'study_mode': 'Full Time', 'duration': '', 'student_category': 'Overseas', 'fee': '-'}, {'study_mode': 'Part Time', 'duration': '', 'student_category': 'Home', 'fee': '-'}, {'study_mode': 'Part Time', 'duration': '', 'student_category': 'Overseas', 'fee': '-'}], 'Innovation and Entrepreneurship (MSc)': [{'study_mode': 'Full Time', 'duration': '', 'student_category': 'Home', 'fee': '£28,750'}, {'study_mode': 'Full Time', 'duration': '', 'student_category': 'Overseas', 'fee': '£36,250'}], 'Intelligent Manufacturing Systems (MSc)': [{'study_mode': 'Full Time', 'duration': '', 'student_category': 'Home', 'fee': '£18,180'}, {'study_mode': 'Full Time', 'duration': '', 'student_category': 'Overseas', 'fee': '£33,340'}], 'Intercultural Communication for Business and the Professions (MSc)': [{'study_mode': 'Full Time', 'duration': '', 'student_category': 'Home', 'fee': '£11,600'}, {'study_mode': 'Full Time', 'duration': '', 'student_category': 'Overseas', 'fee': '£26,110'}, {'study_mode': 'Part Time', 'duration': '', 'student_category': 'Home', 'fee': '£5,800'}, {'study_mode': 'Part Time', 'duration': '', 'student_category': 'Overseas', 'fee': '£13,055'}], 'Interdisciplinary Biomedical Research (MSc)': [{'study_mode': 'Full Time', 'duration': '', 'student_category': 'Home', 'fee': '£11,600'}, {'study_mode': 'Full Time', 'duration': '', 'student_category': 'Overseas', 'fee': '£33,340'}], 'Interdisciplinary Mathematics (MSc) (now closed)': [{'study_mode': 'Full Time', 'duration': '', 'student_category': 'Home', 'fee': '-'}, {'study_mode': 'Full Time', 'duration': '', 'student_category': 'Overseas', 'fee': '-'}, {'study_mode': 'Part Time', 'duration': '', 'student_category': 'Home', 'fee': '-'}, {'study_mode': 'Part Time', 'duration': '', 'student_category': 'Overseas', 'fee': '-'}], 'Interdisciplinary Mathematics (Diploma plus MSc) (now closed)': [{'study_mode': 'Full Time', 'duration': '', 'student_category': 'Home', 'fee': '-'}, {'study_mode': 'Full Time', 'duration': '', 'student_category': 'Overseas', 'fee': '-'}, {'study_mode': 'Part Time', 'duration': '', 'student_category': 'Home', 'fee': '-'}, {'study_mode': 'Part Time', 'duration': '', 'student_category': 'Overseas', 'fee': '-'}], 'International Business (MSc)': [{'study_mode': 'Full Time', 'duration': '', 'student_category': 'Home', 'fee': '£27,300'}, {'study_mode': 'Full Time', 'duration': '', 'student_category': 'Overseas', 'fee': '£34,550'}], 'International Commercial Law (LLM)': [{'study_mode': 'Full Time', 'duration': '', 'student_category': 'Home', 'fee': '£11,060'}, {'study_mode': 'Full Time', 'duration': '', 'student_category': 'Overseas', 'fee': '£22,560'}, {'study_mode': 'Part Time', 'duration': '', 'student_category': 'Home', 'fee': '£5,530'}, {'study_mode': 'Part Time', 'duration': '', 'student_category': 'Overseas', 'fee': '£11,280'}], 'International Corporate Governance and Financial Regulation (LLM)': [{'study_mode': 'Full Time', 'duration': '', 'student_category': 'Home', 'fee': '£11,060'}, {'study_mode': 'Full Time', 'duration': '', 'student_category': 'Overseas', 'fee': '£22,560'}, {'study_mode': 'Part Time', 'duration': '', 'student_category': 'Home', 'fee': '£5,530'}, {'study_mode': 'Part Time', 'duration': '', 'student_category': 'Overseas', 'fee': '£11,280'}], 'International Cultural Policy and Management (MA) (now closed)': [{'study_mode': 'Full Time', 'duration': '', 'student_category': 'Home', 'fee': '-'}, {'study_mode': 'Full Time', 'duration': '', 'student_category': 'Overseas', 'fee': '-'}, {'study_mode': 'Part Time', 'duration': '', 'student_category': 'Home', 'fee': '-'}, {'study_mode': 'Part Time', 'duration': '', 'student_category': 'Overseas', 'fee': '-'}], 'International Development (MA)': [{'study_mode': 'Full Time', 'duration': '', 'student_category': 'Home', 'fee': '£16,170'}, {'study_mode': 'Full Time', 'duration': '', 'student_category': 'Overseas', 'fee': '£28,190'}, {'study_mode': 'Part Time', 'duration': '', 'student_category': 'Home', 'fee': '£8,090'}, {'study_mode': 'Part Time', 'duration': '', 'student_category': 'Overseas', 'fee': '£14,095'}], 'International Development Law and Human Rights (LLM)': [{'study_mode': 'Full Time', 'duration': '', 'student_category': 'Home', 'fee': '£11,060'}, {'study_mode': 'Full Time', 'duration': '', 'student_category': 'Overseas', 'fee': '£22,560'}, {'study_mode': 'Part Time', 'duration': '', 'student_category': 'Home', 'fee': '£5,530'}, {'study_mode': 'Part Time', 'duration': '', 'student_category': 'Overseas', 'fee': '£11,280'}], 'International Economic Law (LLM)': [{'study_mode': 'Full Time', 'duration': '', 'student_category': 'Home', 'fee': '£11,060'}, {'study_mode': 'Full Time', 'duration': '', 'student_category': 'Overseas', 'fee': '£22,560'}, {'study_mode': 'Part Time', 'duration': '', 'student_category': 'Home', 'fee': '£5,530'}, {'study_mode': 'Part Time', 'duration': '', 'student_category': 'Overseas', 'fee': '£11,280'}], 'International Political Economy (MA)': [{'study_mode': 'Full Time', 'duration': '', 'student_category': 'Home', 'fee': '£16,180'}, {'study_mode': 'Full Time', 'duration': '', 'student_category': 'Overseas', 'fee': '£28,190'}, {'study_mode': 'Part Time', 'duration': '', 'student_category': 'Home', 'fee': '£8,090'}, {'study_mode': 'Part Time', 'duration': '', 'student_category': 'Overseas', 'fee': '£14,095'}], 'International Politics and East Asia (MA)': [{'study_mode': 'Full Time', 'duration': '', 'student_category': 'Home', 'fee': '£16,180'}, {'study_mode': 'Full Time', 'duration': '', 'student_category': 'Overseas', 'fee': '£28,190'}, {'study_mode': 'Part Time', 'duration': '', 'student_category': 'Home', 'fee': '£8,090'}, {'study_mode': 'Part Time', 'duration': '', 'student_category': 'Overseas', 'fee': '£14,095'}], 'International Politics and Europe (MA) (now closed)': [{'study_mode': 'Full Time', 'duration': '', 'student_category': 'Home', 'fee': '-'}, {'study_mode': 'Full Time', 'duration': '', 'student_category': 'Overseas', 'fee': '-'}, {'study_mode': 'Part Time', 'duration': '', 'student_category': 'Home', 'fee': '-'}, {'study_mode': 'Part Time', 'duration': '', 'student_category': 'Overseas', 'fee': '-'}], 'International Relations (MA)': [{'study_mode': 'Full Time', 'duration': '', 'student_category': 'Home', 'fee': '£16,180'}, {'study_mode': 'Full Time', 'duration': '', 'student_category': 'Overseas', 'fee': '£28,190'}, {'study_mode': 'Part Time', 'duration': '', 'student_category': 'Home', 'fee': '£8,090'}, {'study_mode': 'Part Time', 'duration': '', 'student_category': 'Overseas', 'fee': '£14,095'}], 'International Security (MA)': [{'study_mode': 'Full Time', 'duration': '', 'student_category': 'Home', 'fee': '£16,180'}, {'study_mode': 'Full Time', 'duration': '', 'student_category': 'Overseas', 'fee': '£28,190'}, {'study_mode': 'Part Time', 'duration': '', 'student_category': 'Home', 'fee': '£8,090'}, {'study_mode': 'Part Time', 'duration': '', 'student_category': 'Overseas', 'fee': '£14,095'}], 'International Technology Management (MSc) (now closed)': [{'study_mode': 'Full Time', 'duration': '', 'student_category': 'Home', 'fee': '-'}, {'study_mode': 'Full Time', 'duration': '', 'student_category': 'Overseas', 'fee': '-'}], 'International Trade, Strategy and Operations (MSc)': [{'study_mode': 'Full Time', 'duration': '', 'student_category': 'Home', 'fee': '£18,180'}, {'study_mode': 'Full Time', 'duration': '', 'student_category': 'Overseas', 'fee': '£33,340'}], 'Islamic Education: Theory and Practice (MA)': [{'study_mode': 'Full Time', 'duration': '', 'student_category': 'Home', 'fee': '£11,600'}, {'study_mode': 'Full Time', 'duration': '', 'student_category': 'Overseas', 'fee': '£26,110'}, {'study_mode': 'Part Time', 'duration': '', 'student_category': 'Home', 'fee': '£5,800'}, {'study_mode': 'Part Time', 'duration': '', 'student_category': 'Overseas', 'fee': '£13,055'}], 'Journalism, Politics and International Studies (Double MA)\\n(with Monash University)': [{'study_mode': 'Full Time', 'duration': '', 'student_category': 'Home', 'fee': '£13,430'}, {'study_mode': 'Full Time', 'duration': '', 'student_category': 'Overseas', 'fee': '£21,960'}], 'Literary Translation Studies (MA)': [{'study_mode': 'Full Time', 'duration': '', 'student_category': 'Home', 'fee': '£11,600'}, {'study_mode': 'Full Time', 'duration': '', 'student_category': 'Overseas', 'fee': '£26,110'}, {'study_mode': 'Part Time', 'duration': '', 'student_category': 'Home', 'fee': '£5,800'}, {'study_mode': 'Part Time', 'duration': '', 'student_category': 'Overseas', 'fee': '£13,055'}], 'Management (MSc)': [{'study_mode': 'Full Time', 'duration': '', 'student_category': 'Home', 'fee': '£28,750'}, {'study_mode': 'Full Time', 'duration': '', 'student_category': 'Overseas', 'fee': '£36,250'}], 'Management for Business Excellence (MSc)': [{'study_mode': 'Full Time', 'duration': '', 'student_category': 'Home', 'fee': '£18,180'}, {'study_mode': 'Full Time', 'duration': '', 'student_category': 'Overseas', 'fee': '£33,340'}], 'Management of Information Systems and Digital Innovation (MSc)': [{'study_mode': 'Full Time', 'duration': '', 'student_category': 'Home', 'fee': '£27,300'}, {'study_mode': 'Full Time', 'duration': '', 'student_category': 'Overseas', 'fee': '£34,550'}], 'Manufacturing Systems Engineering & Management (MSc)': [{'study_mode': 'Full Time', 'duration': '', 'student_category': 'Home', 'fee': '-'}, {'study_mode': 'Full Time', 'duration': '', 'student_category': 'Overseas', 'fee': '-'}], 'Marketing and Strategy (MSc)': [{'study_mode': 'Full Time', 'duration': '', 'student_category': 'Home', 'fee': '£27,300'}, {'study_mode': 'Full Time', 'duration': '', 'student_category': 'Overseas', 'fee': '£34,550'}], 'Marketing Leadership (Postgraduate Diploma)': [{'study_mode': 'Part Time', 'duration': '', 'student_category': 'ALL', 'fee': '£18,550'}], 'Mathematical Finance (MSc)': [{'study_mode': 'Full Time', 'duration': '', 'student_category': 'Home', 'fee': '£32,600'}, {'study_mode': 'Full Time', 'duration': '', 'student_category': 'Overseas', 'fee': '£38,850'}], 'Mathematical Sciences (MAS) (now closed)': [{'study_mode': 'Full Time', 'duration': '', 'student_category': 'Home', 'fee': '\\n-\\n'}, {'study_mode': 'Full Time', 'duration': '', 'student_category': 'Overseas', 'fee': '-'}], 'Mathematics (MSc)': [{'study_mode': 'Full Time', 'duration': '', 'student_category': 'Home', 'fee': '£11,600'}, {'study_mode': 'Full Time', 'duration': '', 'student_category': 'Overseas', 'fee': '£33,340'}], 'Mathematics (Diploma plus MSc)': [{'study_mode': 'Full Time', 'duration': '', 'student_category': 'Home', 'fee': '£11,600'}, {'study_mode': 'Full Time', 'duration': '', 'student_category': 'Overseas', 'fee': '£33,340'}, {'study_mode': 'Part Time', 'duration': '', 'student_category': 'Home', 'fee': '£5,800'}, {'study_mode': 'Part Time', 'duration': '', 'student_category': 'Overseas', 'fee': '£16,670'}], 'Mathematics of Systems (MSc) (now closed)': [{'study_mode': 'Full Time', 'duration': '', 'student_category': 'Home', 'fee': '-'}, {'study_mode': 'Full Time', 'duration': '', 'student_category': 'Overseas', 'fee': '-'}, {'study_mode': 'Part Time', 'duration': '', 'student_category': 'Home', 'fee': '-'}, {'study_mode': 'Part Time', 'duration': '', 'student_category': 'Overseas', 'fee': '-'}], 'Medical Biotechnology and Business Management (MSc)': [{'study_mode': 'Full Time', 'duration': '', 'student_category': 'Home', 'fee': '£11,600'}, {'study_mode': 'Full Time', 'duration': '', 'student_category': 'Overseas', 'fee': '£33,340'}, {'study_mode': 'Part Time', 'duration': '', 'student_category': 'Home', 'fee': '£5,800'}, {'study_mode': 'Part Time', 'duration': '', 'student_category': 'Overseas', 'fee': '£16,670'}], 'Medicine (Graduate entry) (MBChB) - year 1': [{'study_mode': 'Full Time', 'duration': '', 'student_category': 'Home', 'fee': '£9,250'}, {'study_mode': 'Full Time', 'duration': '', 'student_category': 'Overseas', 'fee': '£28,930'}], 'Medicine (Graduate entry) (MBChB) - years 2+': [{'study_mode': 'Full Time', 'duration': '', 'student_category': 'Home', 'fee': '£9,250'}, {'study_mode': 'Full Time', 'duration': '', 'student_category': 'Overseas', 'fee': '£50,430'}], 'Mental Health and Wellbeing (MSc)': [{'study_mode': 'Full Time', 'duration': '', 'student_category': 'Home', 'fee': '£11,600'}, {'study_mode': 'Full Time', 'duration': '', 'student_category': 'Overseas', 'fee': '£33,340'}], 'Modern History (MA)': [{'study_mode': 'Full Time', 'duration': '', 'student_category': 'Home', 'fee': '£11,060'}, {'study_mode': 'Full Time', 'duration': '', 'student_category': 'Overseas', 'fee': '£24,865'}, {'study_mode': 'Part Time', 'duration': '', 'student_category': 'Home', 'fee': '£5,530'}, {'study_mode': 'Part Time', 'duration': '', 'student_category': 'Overseas', 'fee': '£12,433'}], 'Modern Languages and Cultures (MA)': [{'study_mode': 'Full Time', 'duration': '', 'student_category': 'Home', 'fee': '£11,600'}, {'study_mode': 'Full Time', 'duration': '', 'student_category': 'Overseas', 'fee': '£26,110'}, {'study_mode': 'Part Time', 'duration': '', 'student_category': 'Home', 'fee': '£5,800'}, {'study_mode': 'Part Time', 'duration': '', 'student_category': 'Overseas', 'fee': '£13,055'}], 'Molecular Analytical Science (MSc) (now closed)': [{'study_mode': 'Full Time', 'duration': '', 'student_category': 'Home', 'fee': '-'}, {'study_mode': 'Full Time', 'duration': '', 'student_category': 'Overseas', 'fee': '-'}, {'study_mode': 'Part Time', 'duration': '', 'student_category': 'Home', 'fee': '-'}, {'study_mode': 'Part Time', 'duration': '', 'student_category': 'Overseas', 'fee': '-'}], 'Organisational Behaviour (Postgraduate Diploma)': [{'study_mode': 'Part Time', 'duration': '', 'student_category': 'ALL', 'fee': '-'}], 'Philosophy (MA)': [{'study_mode': 'Full Time', 'duration': '', 'student_category': 'Home', 'fee': '£11,600'}, {'study_mode': 'Full Time', 'duration': '', 'student_category': 'Overseas', 'fee': '£26,110'}, {'study_mode': 'Part Time', 'duration': '', 'student_category': 'Home', 'fee': '£5,800'}, {'study_mode': 'Part Time', 'duration': '', 'student_category': 'Overseas', 'fee': '£13,055'}], 'Philosophy and the Arts (MA)': [{'study_mode': 'Full Time', 'duration': '', 'student_category': 'Home', 'fee': '£11,600'}, {'study_mode': 'Full Time', 'duration': '', 'student_category': 'Overseas', 'fee': '£26,110'}, {'study_mode': 'Part Time', 'duration': '', 'student_category': 'Home', 'fee': '£5,800'}, {'study_mode': 'Part Time', 'duration': '', 'student_category': 'Overseas', 'fee': '£13,055'}], 'Politics of Climate Change (MA)': [{'study_mode': 'Full Time', 'duration': '', 'student_category': 'Home', 'fee': '£16,180'}, {'study_mode': 'Full Time', 'duration': '', 'student_category': 'Overseas', 'fee': '£28,190'}, {'study_mode': 'Part Time', 'duration': '', 'student_category': 'Home', 'fee': '£8,090'}, {'study_mode': 'Part Time', 'duration': '', 'student_category': 'Overseas', 'fee': '£14,095'}], 'PPE: Economics and Politics Bipartite (MA)': [{'study_mode': 'Full Time', 'duration': '', 'student_category': 'Home', 'fee': '-'}, {'study_mode': 'Full Time', 'duration': '', 'student_category': 'Overseas', 'fee': '-'}, {'study_mode': 'Part Time', 'duration': '', 'student_category': 'Home', 'fee': '-'}, {'study_mode': 'Part Time', 'duration': '', 'student_category': 'Overseas', 'fee': '-'}], 'PPE: Philosophy and Economics Bipartite (MA)': [{'study_mode': 'Full Time', 'duration': '', 'student_category': 'Home', 'fee': '-'}, {'study_mode': 'Full Time', 'duration': '', 'student_category': 'Overseas', 'fee': '-'}, {'study_mode': 'Part Time', 'duration': '', 'student_category': 'Home', 'fee': '-'}, {'study_mode': 'Part Time', 'duration': '', 'student_category': 'Overseas', 'fee': '-'}], 'PPE: Politics and Philosophy Bipartite (MA)': [{'study_mode': 'Full Time', 'duration': '', 'student_category': 'Home', 'fee': '-'}, {'study_mode': 'Full Time', 'duration': '', 'student_category': 'Overseas', 'fee': '-'}, {'study_mode': 'Part Time', 'duration': '', 'student_category': 'Home', 'fee': '-'}, {'study_mode': 'Part Time', 'duration': '', 'student_category': 'Overseas', 'fee': '-'}], 'Philosophy, Politics and Economics: Tripartite (MA)': [{'study_mode': 'Full Time', 'duration': '', 'student_category': 'Home', 'fee': '-'}, {'study_mode': 'Full Time', 'duration': '', 'student_category': 'Overseas', 'fee': '-'}, {'study_mode': 'Part Time', 'duration': '', 'student_category': 'Home', 'fee': '-'}, {'study_mode': 'Part Time', 'duration': '', 'student_category': 'Overseas', 'fee': '-'}], 'Political and Legal Theory (MA)': [{'study_mode': 'Full Time', 'duration': '', 'student_category': 'Home', 'fee': '£16,180'}, {'study_mode': 'Full Time', 'duration': '', 'student_category': 'Overseas', 'fee': '£28,190'}, {'study_mode': 'Part Time', 'duration': '', 'student_category': 'Home', 'fee': '£8,090'}, {'study_mode': 'Part Time', 'duration': '', 'student_category': 'Overseas', 'fee': '£14,095'}], 'Political Science (Double MA)\\n(with Universitat Pompeu Fabra, Barcelona, Spain)': [{'study_mode': 'Full Time', 'duration': '', 'student_category': 'Home', 'fee': '£16,180'}, {'study_mode': 'Full Time', 'duration': '', 'student_category': 'Overseas', 'fee': '£28,190'}], 'Politics and International Service (Double MA)\\n(with American University, Washington DC)': [{'study_mode': 'Full Time', 'duration': '', 'student_category': 'Home', 'fee': '£16,180'}, {'study_mode': 'Full Time', 'duration': '', 'student_category': 'Overseas', 'fee': '\\n£28,190\\n'}], 'Politics and International Studies (Double MA)\\n(with Konstanz, Germany)': [{'study_mode': 'Full Time', 'duration': '', 'student_category': 'Home', 'fee': '£16,180'}, {'study_mode': 'Full Time', 'duration': '', 'student_category': 'Overseas', 'fee': '£28,190'}], 'Politics and International Studies (Double MA)\\n(with NTU, Singapore)': [{'study_mode': 'Full Time', 'duration': '', 'student_category': 'Home', 'fee': '£16,180'}, {'study_mode': 'Full Time', 'duration': '', 'student_category': 'Overseas', 'fee': '£28,190'}], 'Politics and International Studies (Double MA)\\n(with Universität Konstanz, Germany)': [{'study_mode': 'Full Time', 'duration': '', 'student_category': 'Home', 'fee': '£16,180'}, {'study_mode': 'Full Time', 'duration': '', 'student_category': 'Overseas', 'fee': '£28,190'}], 'Politics and International Studies (Double MA)\\n(with Universitat Pompeu Fabra, Barcelona)': [{'study_mode': 'Full Time', 'duration': '', 'student_category': 'Home', 'fee': '£16,180'}, {'study_mode': 'Full Time', 'duration': '', 'student_category': 'Overseas', 'fee': '£28,190'}], 'Politics and International Studies (Double MA)\\n(with NTU Singapore)': [{'study_mode': 'Full Time', 'duration': '', 'student_category': 'Home', 'fee': '£16,180'}, {'study_mode': 'Full Time', 'duration': '', 'student_category': 'Overseas', 'fee': '£28,190'}], 'Politics, Big Data and Quantitative Methods (MA)': [{'study_mode': 'Full Time', 'duration': '', 'student_category': 'Home', 'fee': '£16,180'}, {'study_mode': 'Full Time', 'duration': '', 'student_category': 'Overseas', 'fee': '£28,190'}, {'study_mode': 'Part Time', 'duration': '', 'student_category': 'Home', 'fee': '£8,090'}, {'study_mode': 'Part Time', 'duration': '', 'student_category': 'Overseas', 'fee': '£14,095'}], 'Politics, International Studies and European Integration (Double MA)\\n(with Vrije Universiteit Brussel)': [{'study_mode': 'Full Time', 'duration': '', 'student_category': 'Home', 'fee': '£16,180'}, {'study_mode': 'Full Time', 'duration': '', 'student_category': 'Overseas', 'fee': '£28,190'}], 'Polymer Chemistry (MSc)': [{'study_mode': 'Full Time', 'duration': '', 'student_category': 'Home', 'fee': '£11,600'}, {'study_mode': 'Full Time', 'duration': '', 'student_category': 'Overseas', 'fee': '£33,340'}, {'study_mode': 'Part Time', 'duration': '', 'student_category': 'Home', 'fee': '£5,800'}, {'study_mode': 'Part Time', 'duration': '', 'student_category': 'Overseas', 'fee': '£16,670'}], 'Polymer Science (MSc)': [{'study_mode': 'Full Time', 'duration': '', 'student_category': 'Home', 'fee': '£11,600'}, {'study_mode': 'Full Time', 'duration': '', 'student_category': 'Overseas', 'fee': '£33,340'}, {'study_mode': 'Part Time', 'duration': '', 'student_category': 'Home', 'fee': '£5,800'}, {'study_mode': 'Part Time', 'duration': '', 'student_category': 'Overseas', 'fee': '£16,670'}], 'Postgraduate Certificate in Education (PGCE) - Primary': [{'study_mode': 'Full Time', 'duration': '', 'student_category': 'Home', 'fee': '£9,250'}, {'study_mode': 'Full Time', 'duration': '', 'student_category': 'Overseas', 'fee': '£26,110'}], 'Postgraduate Certificate in Education (PGCE) - Secondary': [{'study_mode': 'Full Time', 'duration': '', 'student_category': 'Home', 'fee': '£9,250'}, {'study_mode': 'Full Time', 'duration': '', 'student_category': 'Overseas', 'fee': '£26,110'}], 'Postgraduate Certificate in Education International (PGCEi)\\nOnline - Primary': [{'study_mode': 'Full Time', 'duration': '', 'student_category': 'ALL', 'fee': '£7,500'}], 'Postgraduate Certificate in Education International (PGCEi)\\nOnline - Secondary': [{'study_mode': 'Full Time', 'duration': '', 'student_category': 'ALL', 'fee': '7,500'}], 'Postgraduate Certificate in Education International (PGCEi)\\nIn Person - Primary': [{'study_mode': 'Full Time', 'duration': '', 'student_category': 'ALL', 'fee': '£8,200'}], 'Postgraduate Certificate in Education International (PGCEi)\\nIn Person - Secondary': [{'study_mode': 'Full Time', 'duration': '', 'student_category': 'ALL', 'fee': '£8,200'}], 'Postgraduate Certificate in Education with iQTS (PGCE-iQTS)\\nOnline - Primary': [{'study_mode': 'Full Time', 'duration': '', 'student_category': 'ALL', 'fee': '£9,500'}], 'Postgraduate Certificate in Education with iQTS (PGCE-iQTS)\\nOnline - Secondary': [{'study_mode': 'Full Time', 'duration': '', 'student_category': 'ALL', 'fee': '£9,500'}], 'Postgraduate Certificate in Education with iQTS (PGCE-iQTS)\\nIn Person - Primary': [{'study_mode': 'Full Time', 'duration': '', 'student_category': 'ALL', 'fee': '£10,200'}], 'Postgraduate Certificate in Education with iQTS (PGCE-iQTS)\\nIn Person - Secondary': [{'study_mode': 'Full Time', 'duration': '', 'student_category': 'ALL', 'fee': '£10,200'}], 'Predictive Modelling and Scientific Computing (MSc)': [{'study_mode': 'Full Time', 'duration': '', 'student_category': 'Home', 'fee': '£11,600'}, {'study_mode': 'Full Time', 'duration': '', 'student_category': 'Overseas', 'fee': '£28,190'}, {'study_mode': 'Part Time', 'duration': '', 'student_category': 'Home', 'fee': '£5,800'}, {'study_mode': 'Part Time', 'duration': '', 'student_category': 'Overseas', 'fee': '£14,095'}], 'Programme and Project Management (MSc)': [{'study_mode': 'Full Time', 'duration': '', 'student_category': 'Home', 'fee': '£18,180'}, {'study_mode': 'Full Time', 'duration': '', 'student_category': 'Overseas', 'fee': '£33,340'}], 'Psychological Research (MSc)': [{'study_mode': 'Full Time', 'duration': '', 'student_category': 'Home', 'fee': '£11,600'}, {'study_mode': 'Full Time', 'duration': '', 'student_category': 'Overseas', 'fee': '£33,340'}], 'Psychology and Education (MA)': [{'study_mode': 'Full Time', 'duration': '', 'student_category': 'Home', 'fee': '£11,600'}, {'study_mode': 'Full Time', 'duration': '', 'student_category': 'Overseas', 'fee': '£26,110'}, {'study_mode': 'Part Time', 'duration': '', 'student_category': 'Home', 'fee': '£5,800'}, {'study_mode': 'Part Time', 'duration': '', 'student_category': 'Overseas', 'fee': '£13,055'}], 'Psychotherapy and Counselling (MSc)': [{'study_mode': 'Part Time', 'duration': '', 'student_category': 'All', 'fee': '£6,440'}], 'Psychotherapy and Counselling (MSc) Post masters accreditation': [{'study_mode': 'Part Time', 'duration': '', 'student_category': 'All', 'fee': '£3,191'}], 'Public Health (MPH)': [{'study_mode': 'Full Time', 'duration': '', 'student_category': 'Home', 'fee': '£14,060'}, {'study_mode': 'Full Time', 'duration': '', 'student_category': 'Overseas', 'fee': '£31,750'}], 'Public Policy (MA)': [{'study_mode': 'Full Time', 'duration': '', 'student_category': 'Home', 'fee': '£16,180'}, {'study_mode': 'Full Time', 'duration': '', 'student_category': 'Overseas', 'fee': '£28,190'}, {'study_mode': 'Part Time', 'duration': '', 'student_category': 'Home', 'fee': '£8,090'}, {'study_mode': 'Part Time', 'duration': '', 'student_category': 'Overseas', 'fee': '£14,095'}], 'Religions and Education by Distance Learning (MA) (now closed)': [{'study_mode': 'Full Time', 'duration': '', 'student_category': 'Home', 'fee': '-'}, {'study_mode': 'Full Time', 'duration': '', 'student_category': 'Overseas', 'fee': '-'}], 'Research in French and Francophone Studies (MA) (now closed)': [{'study_mode': 'Part Time', 'duration': '', 'student_category': 'Home', 'fee': '-'}, {'study_mode': 'Part Time', 'duration': '', 'student_category': 'Overseas', 'fee': '-'}, {'study_mode': 'Full Time', 'duration': '', 'student_category': 'Home', 'fee': '-'}, {'study_mode': 'Full Time', 'duration': '', 'student_category': 'Overseas', 'fee': '-'}], 'Scientific Research and Communication (MSc)': [{'study_mode': 'Part Time', 'duration': '', 'student_category': 'Home', 'fee': '£5,800'}, {'study_mode': 'Part Time', 'duration': '', 'student_category': 'Overseas', 'fee': '£16,670'}, {'study_mode': 'Full Time', 'duration': '', 'student_category': 'Home', 'fee': '£11,600'}, {'study_mode': 'Full Time', 'duration': '', 'student_category': 'Overseas', 'fee': '£33,340'}], 'Smart, Connected and Autonomous Vehicles (MSc)': [{'study_mode': 'Full Time', 'duration': '', 'student_category': 'Home', 'fee': '£18,180'}, {'study_mode': 'Full Time', 'duration': '', 'student_category': 'Overseas', 'fee': '£33,340'}], 'Social and Political Thought (MA)': [{'study_mode': 'Part Time', 'duration': '', 'student_category': 'Home', 'fee': '£5,800'}, {'study_mode': 'Part Time', 'duration': '', 'student_category': 'Overseas', 'fee': '£13,055'}, {'study_mode': 'Full Time', 'duration': '', 'student_category': 'Home', 'fee': '£11,600'}, {'study_mode': 'Full Time', 'duration': '', 'student_category': 'Overseas', 'fee': '£26,110'}], 'Social Inequalities and Research Methods (MSc)': [{'study_mode': 'Part Time', 'duration': '', 'student_category': 'Home', 'fee': '£5,800'}, {'study_mode': 'Part Time', 'duration': '', 'student_category': 'Overseas', 'fee': '£13,055'}, {'study_mode': 'Full Time', 'duration': '', 'student_category': 'Home', 'fee': '£11,600'}, {'study_mode': 'Full Time', 'duration': '', 'student_category': 'Overseas', 'fee': '£26,110'}], 'Social Research (MA)': [{'study_mode': 'Part Time', 'duration': '', 'student_category': 'Home', 'fee': '-'}, {'study_mode': 'Part Time', 'duration': '', 'student_category': 'Overseas', 'fee': '-'}, {'study_mode': 'Full Time', 'duration': '', 'student_category': 'Home', 'fee': '-'}, {'study_mode': 'Full Time', 'duration': '', 'student_category': 'Overseas', 'fee': '-'}], 'Social Work (MA) (now closed)': [{'study_mode': 'Part Time', 'duration': '', 'student_category': 'Home', 'fee': '-'}, {'study_mode': 'Part Time', 'duration': '', 'student_category': 'Overseas', 'fee': '-'}, {'study_mode': 'Full Time', 'duration': '', 'student_category': 'Home', 'fee': '-'}, {'study_mode': 'Full Time', 'duration': '', 'student_category': 'Overseas', 'fee': '-'}], 'Sociology (MA)': [{'study_mode': 'Part Time', 'duration': '', 'student_category': 'Home', 'fee': '£5,800'}, {'study_mode': 'Part Time', 'duration': '', 'student_category': 'Overseas', 'fee': '£13,055'}, {'study_mode': 'Full Time', 'duration': '', 'student_category': 'Home', 'fee': '£11,600'}, {'study_mode': 'Full Time', 'duration': '', 'student_category': 'Overseas', 'fee': '£26,110'}], 'Statistics (MSc)': [{'study_mode': 'Full Time', 'duration': '', 'student_category': 'Home', 'fee': '£11,600'}, {'study_mode': 'Full Time', 'duration': '', 'student_category': 'Overseas', 'fee': '£33,340'}], 'Strategic Leadership and Change (Postgraduate Diploma)': [{'study_mode': 'Part Time', 'duration': '', 'student_category': 'ALL', 'fee': '£18,550'}], 'Strategy and Innovation (Postgraduate Diploma)': [{'study_mode': 'Part Time', 'duration': '', 'student_category': 'ALL', 'fee': '£18,550'}], 'Supply Chain and Logistics Management (MSc)': [{'study_mode': 'Full Time', 'duration': '', 'student_category': 'Home', 'fee': '£18,180'}, {'study_mode': 'Full Time', 'duration': '', 'student_category': 'Overseas', 'fee': '£33,340'}], 'Sustainable Automotive Electrification (MSc)': [{'study_mode': 'Full Time', 'duration': '', 'student_category': 'Home', 'fee': '£18,180'}, {'study_mode': 'Full Time', 'duration': '', 'student_category': 'Overseas', 'fee': '£33,340'}], 'Sustainable Crop Production: Agronomy for the 21st Century (MSc)': [{'study_mode': 'Part Time', 'duration': '', 'student_category': 'Home', 'fee': '£5,800'}, {'study_mode': 'Part Time', 'duration': '', 'student_category': 'Overseas', 'fee': '£16,670'}, {'study_mode': 'Full Time', 'duration': '', 'student_category': 'Home', 'fee': '£11,600'}, {'study_mode': 'Full Time', 'duration': '', 'student_category': 'Overseas', 'fee': '£33,340'}], 'Sustainable Energy Technologies (MSc) (now closed)': [{'study_mode': 'Part Time', 'duration': '', 'student_category': 'Home', 'fee': '-'}, {'study_mode': 'Part Time', 'duration': '', 'student_category': 'Overseas', 'fee': '-'}, {'study_mode': 'Full Time', 'duration': '', 'student_category': 'Home', 'fee': '-'}, {'study_mode': 'Full Time', 'duration': '', 'student_category': 'Overseas', 'fee': '-'}], 'Teaching English to Speakers of Other Languages (TESOL) (MA)': [{'study_mode': 'Part Time', 'duration': '', 'student_category': 'Home', 'fee': '£5,800'}, {'study_mode': 'Part Time', 'duration': '', 'student_category': 'Overseas', 'fee': '£13,055'}, {'study_mode': 'Full Time', 'duration': '', 'student_category': 'Home', 'fee': '£11,600'}, {'study_mode': 'Full Time', 'duration': '', 'student_category': 'Overseas', 'fee': '£26,110'}], 'Theatre and Performance Studies (MA by Research)': [{'study_mode': 'Part Time', 'duration': '', 'student_category': 'Home', 'fee': '£5,800'}, {'study_mode': 'Part Time', 'duration': '', 'student_category': 'Overseas', 'fee': '£13,055'}, {'study_mode': 'Full Time', 'duration': '', 'student_category': 'Home', 'fee': '£11,600'}, {'study_mode': 'Full Time', 'duration': '', 'student_category': 'Overseas', 'fee': '£26,110'}], 'Translation and Cultures (MA)': [{'study_mode': 'Part Time', 'duration': '', 'student_category': 'Home', 'fee': '£5,800'}, {'study_mode': 'Part Time', 'duration': '', 'student_category': 'Overseas', 'fee': '£13,055'}, {'study_mode': 'Full Time', 'duration': '', 'student_category': 'Home', 'fee': '£11,600'}, {'study_mode': 'Full Time', 'duration': '', 'student_category': 'Overseas', 'fee': '£26,110'}], 'United States Foreign Policy (MA)': [{'study_mode': 'Part Time', 'duration': '', 'student_category': 'Home', 'fee': '£8,090'}, {'study_mode': 'Part Time', 'duration': '', 'student_category': 'Overseas', 'fee': '£14,095'}, {'study_mode': 'Full Time', 'duration': '', 'student_category': 'Home', 'fee': '£16,180'}, {'study_mode': 'Full Time', 'duration': '', 'student_category': 'Overseas', 'fee': '£28,190'}], 'Urban Analytics and Visualisation (MSc) (now closed)': [{'study_mode': 'Part Time', 'duration': '', 'student_category': 'Home', 'fee': '-'}, {'study_mode': 'Part Time', 'duration': '', 'student_category': 'Overseas', 'fee': '-'}, {'study_mode': 'Full Time', 'duration': '', 'student_category': 'Home', 'fee': '-'}, {'study_mode': 'Full Time', 'duration': '', 'student_category': 'Overseas', 'fee': '-'}], 'Visual and Material Culture of Ancient Greece (MA)': [{'study_mode': 'Part Time', 'duration': '', 'student_category': 'Home', 'fee': '£5,530'}, {'study_mode': 'Part Time', 'duration': '', 'student_category': 'Overseas', 'fee': '£13,055'}, {'study_mode': 'Full Time', 'duration': '', 'student_category': 'Home', 'fee': '£11,060'}, {'study_mode': 'Full Time', 'duration': '', 'student_category': 'Overseas', 'fee': '£26,110'}], 'Visual and Material Culture of Ancient Rome (MA)': [{'study_mode': 'Part Time', 'duration': '', 'student_category': 'Home', 'fee': '£5,530'}, {'study_mode': 'Part Time', 'duration': '', 'student_category': 'Overseas', 'fee': '£13,055'}, {'study_mode': 'Full Time', 'duration': '', 'student_category': 'Home', 'fee': '£11,060'}, {'study_mode': 'Full Time', 'duration': '', 'student_category': 'Overseas', 'fee': '£26,110'}], 'World Literature (MA)': [{'study_mode': 'Part Time', 'duration': '', 'student_category': 'Home', 'fee': '£5,530'}, {'study_mode': 'Part Time', 'duration': '', 'student_category': 'Overseas', 'fee': '£12,440'}, {'study_mode': 'Full Time', 'duration': '', 'student_category': 'Home', 'fee': '£11,060'}, {'study_mode': 'Full Time', 'duration': '', 'student_category': 'Overseas', 'fee': '£24,880'}], 'Writing (MA)': [{'study_mode': 'Part Time', 'duration': '', 'student_category': 'Home', 'fee': '£5,800'}, {'study_mode': 'Part Time', 'duration': '', 'student_category': 'Overseas', 'fee': '£13,055'}, {'study_mode': 'Full Time', 'duration': '', 'student_category': 'Home', 'fee': '£11,600'}], 'Writing (MA': [{'study_mode': 'Full Time', 'duration': '', 'student_category': 'Overseas', 'fee': '£26,110'}]}\n"
     ]
    }
   ],
   "source": [
    "soup = BeautifulSoup(\n",
    "                    response.content,\n",
    "                    'html.parser',\n",
    "                    from_encoding='utf-8')\n",
    "tuition_fees = {}\n",
    "tuition_fees_table = soup.find(attrs={\"id\": \"searchable-table\"}) \\\n",
    "                            .find('tbody')\n",
    "for row in tuition_fees_table.select('tr'):\n",
    "    cells = row.select('td')\n",
    "    course_name = cells[0].text.strip()\n",
    "    study_mode = cells[2].text.strip()\n",
    "    student_category = cells[3].text.strip()\n",
    "    fee = cells[6].text\n",
    "    tuition_fee_item = {\n",
    "        \"study_mode\": study_mode,\n",
    "        \"duration\": '',\n",
    "        \"student_category\": student_category,\n",
    "        \"fee\": fee\n",
    "    }\n",
    "    if course_name in tuition_fees:\n",
    "        tuition_fees[course_name].append(tuition_fee_item)\n",
    "    else:\n",
    "        tuition_fees[course_name] = [tuition_fee_item]\n",
    "print(tuition_fees)"
   ]
  },
  {
   "cell_type": "code",
   "execution_count": 15,
   "metadata": {},
   "outputs": [
    {
     "name": "stdout",
     "output_type": "stream",
     "text": [
      "£18,550\n",
      "The 2024 fees for the Executive Diploma in Behavioural Science is £18,550. There are also a number of scholarships and bursaries available for candidates enrolling on the Warwick Executive Diplomas in 2024.\n"
     ]
    }
   ],
   "source": [
    "url= \"https://warwick.ac.uk/study/postgraduate/courses/pga-pgcert-pgdip-behavioural-science\"\n",
    "response= requests.get(url)\n",
    "soup= BeautifulSoup(response.content, 'html.parser')\n",
    "ok=soup.find(\"h3\",string=\"Fees and funding\")\n",
    "ok=ok.next_sibling.next_element.text\n",
    "#fee=£18,555\n",
    "fee= re.search(r'£(\\d+,\\d+)',ok).group(0)\n",
    "print(fee)\n",
    "print(ok)"
   ]
  },
  {
   "cell_type": "code",
   "execution_count": 2,
   "metadata": {},
   "outputs": [
    {
     "name": "stdout",
     "output_type": "stream",
     "text": [
      "2 August 2024\n"
     ]
    }
   ],
   "source": [
    "link= 'https://warwick.ac.uk/study/postgraduate/apply/english'\n",
    "response= requests.get(link)\n",
    "soup= BeautifulSoup(response.content, 'html.parser')\n",
    "ok=soup.select_one('div.column-2 strong').text\n",
    "date_pattern = re.compile(r'\\d{1,2} \\w+ \\d{4}')\n",
    "date = date_pattern.search(ok).group(0)\n",
    "print(date)"
   ]
  },
  {
   "cell_type": "code",
   "execution_count": 8,
   "metadata": {},
   "outputs": [
    {
     "name": "stdout",
     "output_type": "stream",
     "text": [
      "[]\n"
     ]
    }
   ],
   "source": [
    "def _get_tuitions(soup: BeautifulSoup) -> list:\n",
    "    try:\n",
    "        tuitions = []\n",
    "\n",
    "        duration_dict =_get_duration(soup)\n",
    "        if not duration_dict:\n",
    "            return []\n",
    "\n",
    "        for student_category in ['uk', 'international']:\n",
    "            fees_section = seq(soup.select('#fees h3')).find(lambda x: student_category in x.text.lower())\n",
    "            if not fees_section:\n",
    "                continue\n",
    "            fees_section = fees_section.next_sibling.next_sibling\n",
    "            delimiter = ';' if ';' in fees_section.text else '\\n'\n",
    "            for fee in fees_section.text.split(delimiter):\n",
    "                for study_mode, duration in duration_dict.items():\n",
    "                    if study_mode in fee:\n",
    "                        tuitions.append({\n",
    "                            'study_mode': study_mode,\n",
    "                            'duration': duration,\n",
    "                            'student_category': student_category,\n",
    "                            'fee': fee.replace(study_mode, '').strip()\n",
    "                        })\n",
    "        if tuitions == []:\n",
    "            for study_mode, duration in duration_dict.items():\n",
    "                tuitions.append({\n",
    "                                'study_mode': study_mode,\n",
    "                                'duration': duration,\n",
    "                                'student_category': '',\n",
    "                                'fee': ''\n",
    "                            })\n",
    "    except AttributeError:\n",
    "        tuitions = []\n",
    "    return tuitions\n",
    "ok= _get_tuitions(soup)\n",
    "print(ok)\n"
   ]
  },
  {
   "cell_type": "code",
   "execution_count": 12,
   "metadata": {},
   "outputs": [
    {
     "name": "stdout",
     "output_type": "stream",
     "text": [
      "<p>The normal entry requirement for the BSc is a Diploma in Higher Education (120 Level 5 credits) (or overseas equivalent). Applicants must be registered nurses with the NMC or an equivalent governing body for international applicants. IELTS 6.5 overall, minimum of 6.0 in all skills.</p>\n",
      "<p>Applicants must be qualified nurses with a current registration either in the UK or home country. Applicants will have a diploma in nursing that has been awarded by a recognised academic institution.</p>\n",
      "<p>Visit our admissions webpages to view our <a href=\"https://www.kcl.ac.uk/study/postgraduate-taught/how-to-apply/entry-requirements/english-language-requirements\">English language entry requirements</a></p>\n"
     ]
    }
   ],
   "source": [
    "def _get_entry_requirements(json_data: dict) -> Optional[str]:\n",
    "    try:\n",
    "        try:\n",
    "            basic_requirements = json_data['routing']['entry']['entryRequirement']['pgtDefault']\n",
    "            other_requirements = json_data['routing']['entry']['otherRequirements']\n",
    "\n",
    "            entry_requirements = \"\".join(seq([basic_requirements, other_requirements]).filter(lambda x: x).to_list())\n",
    "        except:\n",
    "            entry_requirements = json_data['routing']['entry']['entryRequirement']\n",
    "        try:\n",
    "            entry_requirements= json_data['routing']['entry']['otherRequirements']\n",
    "        except:\n",
    "            pass\n",
    "    \n",
    "    except (AttributeError, TypeError):\n",
    "        entry_requirements = \"\"\n",
    "    return entry_requirements\n",
    "entry_requirements= _get_entry_requirements(data)\n",
    "print(entry_requirements)"
   ]
  },
  {
   "cell_type": "code",
   "execution_count": 15,
   "metadata": {},
   "outputs": [],
   "source": [
    "import requests\n",
    "\n",
    "cookies = {\n",
    "    'OptanonAlertBoxClosed': '2024-03-28T08:51:00.450Z',\n",
    "    '_gid': 'GA1.3.509480863.1711833552',\n",
    "    '_fbp': 'fb.2.1711902939866.201974845',\n",
    "    '__hs_cookie_cat_pref': '1:true_2:true_3:true',\n",
    "    'hubspotutk': '338f7eef2923d6365b019b9516e5b2ec',\n",
    "    '__hssrc': '1',\n",
    "    '_gcl_au': '1.1.1626541155.1711902948',\n",
    "    '_hjSessionUser_3882840': 'eyJpZCI6IjNjZDAxM2Y3LWU1YjEtNTBlZC1hZjUzLWI4YTFmODJiMDk3NiIsImNyZWF0ZWQiOjE3MTE5MDI5NDExNzYsImV4aXN0aW5nIjp0cnVlfQ==',\n",
    "    '__hstc': '102787167.338f7eef2923d6365b019b9516e5b2ec.1711902945790.1711914310426.1711924218847.3',\n",
    "    '_ga_2B2LNW4G7M': 'GS1.1.1711947718.6.0.1711947718.0.0.0',\n",
    "    '_ga_MB7LPD0MRQ': 'GS1.1.1711950710.7.1.1711952107.0.0.0',\n",
    "    '_ga': 'GA1.3.1650481729.1711615941',\n",
    "    '_gat_gtag_UA_228896_1': '1',\n",
    "    'OptanonConsent': 'isGpcEnabled=0&datestamp=Mon+Apr+01+2024+13%3A51%3A53+GMT%2B0600+(Bangladesh+Standard+Time)&version=202402.1.0&browserGpcFlag=0&isIABGlobal=false&consentId=1aec5d0b-87c7-45e8-8e05-b61c16202a81&interactionCount=1&isAnonUser=1&landingPath=NotLandingPage&groups=C0001%3A1%2CC0002%3A1%2CC0003%3A1%2CC0004%3A1&hosts=H105%3A1%2CH148%3A1%2CH103%3A1%2CH130%3A1%2CH24%3A1%2CH104%3A1%2CH1%3A1%2CH201%3A1%2CH179%3A1%2CH19%3A1%2CH20%3A1%2CH144%3A1%2CH181%3A1%2CH117%3A1%2CH33%3A1%2CH48%3A1%2CH195%3A1%2CH9%3A1%2CH11%3A1%2CH106%3A1%2CH204%3A1%2CH57%3A1%2CH58%3A1%2CH59%3A1%2CH202%3A1%2CH21%3A1%2CH114%3A1%2CH115%3A1%2CH116%3A1%2CH23%3A1%2CH149%3A1%2CH173%3A1%2CH203%3A1%2CH150%3A1%2CH185%3A1%2CH126%3A1%2CH161%3A1%2CH127%3A1%2CH156%3A1%2CH128%3A1%2CH140%3A1%2CH198%3A1%2CH180%3A1%2CH62%3A1%2CH200%3A1%2CH187%3A1%2CH25%3A1%2CH26%3A1&genVendors=&geolocation=BD%3BC&AwaitingReconsent=false',\n",
    "}\n",
    "\n",
    "headers = {\n",
    "    'accept': '*/*',\n",
    "    'accept-language': 'en-US,en;q=0.9,bn;q=0.8',\n",
    "    'accesstoken': 'JjV9NgvYm8BQgTNx2AtThsRBeK5qZxArDnRc2SKrzYWzvsS6',\n",
    "    # 'cookie': 'OptanonAlertBoxClosed=2024-03-28T08:51:00.450Z; _gid=GA1.3.509480863.1711833552; _fbp=fb.2.1711902939866.201974845; __hs_cookie_cat_pref=1:true_2:true_3:true; hubspotutk=338f7eef2923d6365b019b9516e5b2ec; __hssrc=1; _gcl_au=1.1.1626541155.1711902948; _hjSessionUser_3882840=eyJpZCI6IjNjZDAxM2Y3LWU1YjEtNTBlZC1hZjUzLWI4YTFmODJiMDk3NiIsImNyZWF0ZWQiOjE3MTE5MDI5NDExNzYsImV4aXN0aW5nIjp0cnVlfQ==; __hstc=102787167.338f7eef2923d6365b019b9516e5b2ec.1711902945790.1711914310426.1711924218847.3; _ga_2B2LNW4G7M=GS1.1.1711947718.6.0.1711947718.0.0.0; _ga_MB7LPD0MRQ=GS1.1.1711950710.7.1.1711952107.0.0.0; _ga=GA1.3.1650481729.1711615941; _gat_gtag_UA_228896_1=1; OptanonConsent=isGpcEnabled=0&datestamp=Mon+Apr+01+2024+13%3A51%3A53+GMT%2B0600+(Bangladesh+Standard+Time)&version=202402.1.0&browserGpcFlag=0&isIABGlobal=false&consentId=1aec5d0b-87c7-45e8-8e05-b61c16202a81&interactionCount=1&isAnonUser=1&landingPath=NotLandingPage&groups=C0001%3A1%2CC0002%3A1%2CC0003%3A1%2CC0004%3A1&hosts=H105%3A1%2CH148%3A1%2CH103%3A1%2CH130%3A1%2CH24%3A1%2CH104%3A1%2CH1%3A1%2CH201%3A1%2CH179%3A1%2CH19%3A1%2CH20%3A1%2CH144%3A1%2CH181%3A1%2CH117%3A1%2CH33%3A1%2CH48%3A1%2CH195%3A1%2CH9%3A1%2CH11%3A1%2CH106%3A1%2CH204%3A1%2CH57%3A1%2CH58%3A1%2CH59%3A1%2CH202%3A1%2CH21%3A1%2CH114%3A1%2CH115%3A1%2CH116%3A1%2CH23%3A1%2CH149%3A1%2CH173%3A1%2CH203%3A1%2CH150%3A1%2CH185%3A1%2CH126%3A1%2CH161%3A1%2CH127%3A1%2CH156%3A1%2CH128%3A1%2CH140%3A1%2CH198%3A1%2CH180%3A1%2CH62%3A1%2CH200%3A1%2CH187%3A1%2CH25%3A1%2CH26%3A1&genVendors=&geolocation=BD%3BC&AwaitingReconsent=false',\n",
    "    'dnt': '1',\n",
    "    'referer': 'https://www.kcl.ac.uk/study/postgraduate-taught/courses/applied-neuroscience-msc',\n",
    "    'sec-ch-ua': '\"Google Chrome\";v=\"123\", \"Not:A-Brand\";v=\"8\", \"Chromium\";v=\"123\"',\n",
    "    'sec-ch-ua-mobile': '?0',\n",
    "    'sec-ch-ua-platform': '\"Linux\"',\n",
    "    'sec-fetch-dest': 'empty',\n",
    "    'sec-fetch-mode': 'cors',\n",
    "    'sec-fetch-site': 'same-origin',\n",
    "    'user-agent': 'Mozilla/5.0 (X11; Linux x86_64) AppleWebKit/537.36 (KHTML, like Gecko) Chrome/123.0.0.0 Safari/537.36',\n",
    "}\n",
    "\n",
    "params = {\n",
    "    'linkDepth': '1',\n",
    "}\n",
    "\n",
    "response = requests.get(\n",
    "    'https://www.kcl.ac.uk/api/delivery/projects/website/entries/72e8ecb1-123e-4621-bfef-0cbf249eb40e',\n",
    "    params=params,\n",
    "    cookies=cookies,\n",
    "    headers=headers,\n",
    ")\n",
    "data2=response.json()\n",
    "with open('data2.json', 'w') as f:\n",
    "    json.dump(data2, f, indent=4)"
   ]
  },
  {
   "cell_type": "code",
   "execution_count": 108,
   "metadata": {},
   "outputs": [
    {
     "name": "stdout",
     "output_type": "stream",
     "text": [
      "[{'study_mode': 'Full-time', 'duration': 'MSc: Minimum two years, maximum six years. PG Dip: Minimum 16 months, maximum four years. PG Cert: Minimum eight months, maximum three years.', 'student_category': 'uk', 'fee': '£1,654'}, {'study_mode': 'Full-time', 'duration': 'MSc: Minimum two years, maximum six years. PG Dip: Minimum 16 months, maximum four years. PG Cert: Minimum eight months, maximum three years.', 'student_category': 'international', 'fee': '£1,654'}, {'study_mode': 'Part-time', 'duration': 'MSc: Minimum two years, maximum six years. PG Dip: Minimum 16 months, maximum four years. PG Cert: Minimum eight months, maximum three years.', 'student_category': 'uk', 'fee': '£1,654'}, {'study_mode': 'Part-Time', 'duration': 'MSc: Minimum two years, maximum six years. PG Dip: Minimum 16 months, maximum four years. PG Cert: Minimum eight months, maximum three years.', 'student_category': 'international', 'fee': '£1,654'}]\n"
     ]
    }
   ],
   "source": [
    "try:\n",
    "    mapper = {\n",
    "        'ukFee': ('uk', 'Full-time'),\n",
    "        'internationalFee': ('international', 'Full-time'),\n",
    "        'ukPartTimeFee': ('uk', 'Part-time'),\n",
    "        'internationalPartTimeFee': ('international', 'Part-Time')\n",
    "    }\n",
    "\n",
    "    # # TODO: extract durations\n",
    "    tuitions = []\n",
    "    try:\n",
    "        for k in seq(mapper.keys()).filter(lambda x: x in json_data['routing']['entry']):\n",
    "            fee = json_data['routing']['entry'][k]\n",
    "            duration = json_data['routing']['entry']['duration']\n",
    "            if not fee:\n",
    "                continue\n",
    "\n",
    "            fee = re.findall(r'£\\d+,\\d+', fee).pop(0)\n",
    "\n",
    "            student_category, study_mode = mapper[k]\n",
    "            tuitions.append({\n",
    "                'study_mode': study_mode,\n",
    "                'duration': duration,\n",
    "                'student_category': student_category,\n",
    "                'fee': fee\n",
    "            })\n",
    "    except:\n",
    "        pass\n",
    "    if(len(tuitions) == 0):\n",
    "        try:\n",
    "            for k in seq(mapper.keys()).filter(lambda x: x in json_data['routing']['entry']['relatedCourses'][0]['relatedCourses'][0]):\n",
    "                fee=json_data['routing'] ['entry'] ['relatedCourses'][0]['relatedCourses'][0][k]\n",
    "                duration= json_data['routing']['entry']['relatedCourses'][0]['relatedCourses'][0]['duration']\n",
    "\n",
    "                if not fee:\n",
    "                    continue\n",
    "\n",
    "                fee = re.findall(r'£\\d+,\\d+', fee).pop(0)\n",
    "        \n",
    "                student_category, study_mode = mapper[k]\n",
    "                tuitions.append({\n",
    "                    'study_mode': study_mode,\n",
    "                    'duration': duration,\n",
    "                    'student_category': student_category,\n",
    "                    'fee': fee\n",
    "                })\n",
    "        except:\n",
    "            pass\n",
    "    if(len(tuitions) == 0):\n",
    "        try:\n",
    "            for k in seq(mapper.keys()).filter(lambda x: x in json_data['routing']['entry']):\n",
    "                fee = json_data['routing']['entry'][\"furtherFeeInformation\"]\n",
    "                duration = json_data['routing']['entry']['duration']\n",
    "                if not fee:\n",
    "                    continue\n",
    "\n",
    "                fee = re.findall(r'£\\d+,\\d+', fee).pop(0)\n",
    "\n",
    "                student_category, study_mode = mapper[k]\n",
    "                tuitions.append({\n",
    "                    'study_mode': study_mode,\n",
    "                    'duration': duration,\n",
    "                    'student_category': student_category,\n",
    "                    'fee': fee\n",
    "                })\n",
    "        except:\n",
    "            pass\n",
    "    if(len(tuitions) == 0):\n",
    "        try:\n",
    "            for k in seq(mapper.keys()).filter(lambda x: x in json_data['routing']['entry']):\n",
    "                fee = json_data['routing']['entry'][\"onlineCourseFeeInformation\"]\n",
    "                duration = json_data['routing']['entry']['duration']\n",
    "                if not fee:\n",
    "                    continue\n",
    "\n",
    "                fee = re.findall(r'&pound;(\\d+,\\d+)', fee).pop(0)\n",
    "\n",
    "                student_category, study_mode = mapper[k]\n",
    "                tuitions.append({\n",
    "                    'study_mode': study_mode,\n",
    "                    'duration': duration,\n",
    "                    'student_category': student_category,\n",
    "                    'fee': f'£{fee}'\n",
    "\n",
    "\n",
    "                })\n",
    "        except:\n",
    "            pass\n",
    "        \n",
    "    \n",
    "except IndexError:\n",
    "    tuitions = []\n",
    "\n",
    "return tuitions\n"
   ]
  },
  {
   "cell_type": "markdown",
   "metadata": {},
   "source": [
    "Playwright Section\n",
    "---Use if needed---"
   ]
  },
  {
   "cell_type": "code",
   "execution_count": 22,
   "metadata": {},
   "outputs": [],
   "source": [
    "playwright = await async_playwright().start()\n",
    "browser = await playwright.chromium.launch(headless = True)\n",
    "page = await browser.new_page()\n",
    "\n",
    "await page.goto(\"https://www.sheffield.ac.uk/postgraduate/taught/courses/2024/advanced-clinical-practice-gp-mmedsci\")\n",
    "content = await page.content()\n",
    "\n",
    "await browser.close()\n",
    "await playwright.stop()\n",
    "soup = BeautifulSoup(content, \"html.parser\")"
   ]
  },
  {
   "cell_type": "code",
   "execution_count": 11,
   "metadata": {},
   "outputs": [
    {
     "name": "stdout",
     "output_type": "stream",
     "text": [
      "['1 ', '2–3 ', '2/3 ']\n"
     ]
    }
   ],
   "source": [
    "text = \"1 year, full-time\\n2–3 years part-time\\n 2/3 years\"\n",
    "\n",
    "# Define the regex pattern to match the previous word before \"year\" or \"years\"\n",
    "pattern = r'(?<=\\b)\\S+\\s+(?=year|years)'\n",
    "\n",
    "# Search for the pattern in the text\n",
    "matches = re.findall(pattern, text)\n",
    "print(matches)"
   ]
  }
 ],
 "metadata": {
  "kernelspec": {
   "display_name": "myenv",
   "language": "python",
   "name": "python3"
  },
  "language_info": {
   "codemirror_mode": {
    "name": "ipython",
    "version": 3
   },
   "file_extension": ".py",
   "mimetype": "text/x-python",
   "name": "python",
   "nbconvert_exporter": "python",
   "pygments_lexer": "ipython3",
   "version": "3.10.12"
  }
 },
 "nbformat": 4,
 "nbformat_minor": 2
}
